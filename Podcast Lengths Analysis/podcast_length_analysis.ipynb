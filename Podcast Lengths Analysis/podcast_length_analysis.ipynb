{
 "cells": [
  {
   "cell_type": "markdown",
   "metadata": {
    "heading_collapsed": true
   },
   "source": [
    "# Imports"
   ]
  },
  {
   "cell_type": "code",
   "execution_count": 1,
   "metadata": {
    "ExecuteTime": {
     "end_time": "2020-09-22T11:05:21.834372Z",
     "start_time": "2020-09-22T11:05:20.900023Z"
    },
    "hidden": true
   },
   "outputs": [],
   "source": [
    "%matplotlib inline\n",
    "%config InlineBackend.figure_format = 'retina'\n",
    "import matplotlib.pyplot as plt\n",
    "import matplotlib.cm as cm\n",
    "plt.style.use('ggplot')\n",
    "\n",
    "import seaborn as sns\n",
    "\n",
    "params = {\n",
    "    'text.color': (0.25, 0.25, 0.25),\n",
    "    'figure.figsize': [18, 6],\n",
    "   }\n",
    "\n",
    "plt.rcParams.update(params)\n",
    "\n",
    "import pandas as pd\n",
    "pd.options.mode.chained_assignment = None\n",
    "pd.options.display.max_rows = 500\n",
    "pd.options.display.max_seq_items = 500\n",
    "\n",
    "import numpy as np\n",
    "from numpy import percentile\n",
    "np.random.seed(42)\n",
    "\n",
    "import requests\n",
    "from bs4 import BeautifulSoup\n",
    "\n",
    "import re\n",
    "import copy\n",
    "import json\n",
    "import time\n",
    "import string\n",
    "from datetime import datetime\n",
    "\n",
    "from tqdm.notebook import tqdm\n",
    "\n",
    "from tabulate import tabulate\n",
    "import feedparser\n",
    "\n",
    "import spotipy\n",
    "from spotipy.oauth2 import SpotifyClientCredentials"
   ]
  },
  {
   "cell_type": "code",
   "execution_count": 3,
   "metadata": {
    "ExecuteTime": {
     "end_time": "2020-09-22T11:05:21.834372Z",
     "start_time": "2020-09-22T11:05:20.900023Z"
    },
    "hidden": true
   },
   "outputs": [],
   "source": [
    "# Save your Spotify API keys in a separate config.py file.\n",
    "# Import both keys.\n",
    "from config import CLIENT_ID, CLIENT_SECRET\n",
    "\n",
    "client_credentials_manager = SpotifyClientCredentials(client_id=CLIENT_ID,\n",
    "                                                      client_secret=CLIENT_SECRET)\n",
    "spotify = spotipy.Spotify(client_credentials_manager=client_credentials_manager)"
   ]
  },
  {
   "cell_type": "markdown",
   "metadata": {
    "ExecuteTime": {
     "end_time": "2020-09-22T13:09:41.740211Z",
     "start_time": "2020-09-22T13:09:41.734330Z"
    }
   },
   "source": [
    "# What is the ideal length of a podcast?\n",
    "---\n",
    "\n",
    "One interesting aspect of podcasting is that there are very few creative rules, if any. Podcasts are still an emerging medium and best practices are being invented day by day. Every creator is free to find his or her way of concept, formatting, etc. \n",
    "\n",
    "In this quick analysis, I examine one specific and from my perspective quite relevant aspect of formatting – the lengths of a podcast. I know from professional experience that the ideal length of a podcast is discussed intensively and controversely among podcasters. Opinions range from *«It doesn't matter at all as long as the content is interesting and captivating...»* to *«Under no circumstances longer than X minutes for this genre...»*.\n",
    "\n",
    "I have listened to very short podcasts/episodes of just around a couple of minutes up to very long formats like [«Alles gesagt»](https://www.zeit.de/serie/alles-gesagt) which can potentially last for days. I wonder – how can find creators «their» ideal episode length with good reason? Is it just the time the topic needs? Is the perceived time span more important than the factual duration? \n",
    "\n",
    "A first step to clarify these questions is to look into the market. What are «the usual lengths» that successful creators use in general or in particular genres?\n",
    "\n",
    "For this analysis, I gather meta-data from top podcasts from the two most important podcast platforms: iTunes and Spotify.\n",
    "\n",
    "# tl;dr\n",
    "- **I analysed ~225k episodes of ~1.8k iTunes podcasts** and **37k episodes of ~800 Spotify podcasts**.\n",
    "- **A prototypical length of a podcast episode is around 40 minutes.** \n",
    "- **90% of all podcast episodes have a length between 20 and 60 minutes.**\n",
    "- **Typical lengths vary between the different genres – with median values between 15 and 65 minutes.**\n"
   ]
  },
  {
   "cell_type": "markdown",
   "metadata": {
    "ExecuteTime": {
     "end_time": "2020-09-22T13:09:41.740211Z",
     "start_time": "2020-09-22T13:09:41.734330Z"
    }
   },
   "source": [
    "# iTunes\n",
    "---"
   ]
  },
  {
   "cell_type": "markdown",
   "metadata": {
    "ExecuteTime": {
     "end_time": "2020-09-22T13:09:41.740211Z",
     "start_time": "2020-09-22T13:09:41.734330Z"
    },
    "tags": []
   },
   "source": [
    "## Get podcast metadata from RSS feeds\n",
    "Apple categorizes podcasts in genres that can either be searched by name or ID. Let's start by retrieving these. "
   ]
  },
  {
   "cell_type": "code",
   "execution_count": 4,
   "metadata": {},
   "outputs": [],
   "source": [
    "url = \"https://podcasts.apple.com/de/genre/podcasts/id26\"\n",
    "res = requests.get(url)\n",
    "soup = BeautifulSoup(res.content)"
   ]
  },
  {
   "cell_type": "code",
   "execution_count": 5,
   "metadata": {},
   "outputs": [
    {
     "name": "stdout",
     "output_type": "stream",
     "text": [
      "Apple podcast top genres\n"
     ]
    },
    {
     "data": {
      "text/plain": [
       "{'Kunst': 1301,\n",
       " 'Wirtschaft': 1321,\n",
       " 'Comedy': 1303,\n",
       " 'Bildung': 1304,\n",
       " 'Fiktion': 1483,\n",
       " 'Regierung': 1511,\n",
       " 'Gesundheit und Fitness': 1512,\n",
       " 'Geschichte': 1487,\n",
       " 'Kinder und Familie': 1305,\n",
       " 'Freizeit': 1502,\n",
       " 'Musik': 1310,\n",
       " 'Nachrichten': 1489,\n",
       " 'Religion und Spiritualität': 1314,\n",
       " 'Wissenschaft': 1533,\n",
       " 'Gesellschaft und Kultur': 1324,\n",
       " 'Sport': 1545,\n",
       " 'TV und Film': 1309,\n",
       " 'Technologie': 1318,\n",
       " 'Wahre Kriminalfälle': 1488}"
      ]
     },
     "metadata": {},
     "output_type": "display_data"
    }
   ],
   "source": [
    "# Retrieve top genres\n",
    "results = []\n",
    "for top_genre in soup.find_all(\"a\", class_=\"top-level-genre\"):\n",
    "    id_ = top_genre[\"href\"]\n",
    "    id_ = id_.split(\"/\")[-1].replace(\"id\", \"\")\n",
    "    id_ = int(id_)\n",
    "    results.append((top_genre.text, id_))\n",
    "top_genres = dict(results)\n",
    "print(\"Apple podcast top genres\")\n",
    "display(top_genres)"
   ]
  },
  {
   "cell_type": "markdown",
   "metadata": {
    "ExecuteTime": {
     "end_time": "2020-09-22T13:09:41.740211Z",
     "start_time": "2020-09-22T13:09:41.734330Z"
    },
    "tags": []
   },
   "source": [
    "Now we query the current iTunes charts for all genres, clean the results and save to disk.\n",
    "\n",
    "Every podcast has one primary genre but can belong to other genres and will be listed in these as well."
   ]
  },
  {
   "cell_type": "code",
   "execution_count": 6,
   "metadata": {
    "ExecuteTime": {
     "end_time": "2020-09-22T13:09:41.740211Z",
     "start_time": "2020-09-22T13:09:41.734330Z"
    },
    "tags": []
   },
   "outputs": [],
   "source": [
    "# Helper functions\n",
    "\n",
    "def get_podcast_data(genre_id, market=\"de\", top_n_podcasts=10):\n",
    "    url = f\"https://itunes.apple.com/{market}/rss/topaudiopodcasts/limit={top_n_podcasts}/genre={genre_id}/explicit=true/json\"\n",
    "    res = requests.get(url)\n",
    "    assert res.status_code==200\n",
    "    data = json.loads(res.content)\n",
    "\n",
    "    # The JSON from the API contains redundant key names and is overly complicated in its structure.\n",
    "    # Therefore we just extract the podcast IDs and make a batch query to the iTunes search API which yields cleaner metadata.\n",
    "    ids = pd.DataFrame(data[\"feed\"][\"entry\"]).T.loc[\"id\"].values\n",
    "    ids = [x[\"attributes\"] for x in ids] \n",
    "    ids = [x[\"im:id\"] for x in ids]\n",
    "    ids = \",\".join(ids)\n",
    "\n",
    "    # Query iTunes lookup endpoint with list of podcast IDs.\n",
    "    query_url = f\"https://itunes.apple.com/lookup?id={ids}\"\n",
    "    res_feeds = requests.get(query_url)\n",
    "    tmp = json.loads(res_feeds.text)\n",
    "    df = pd.DataFrame(tmp[\"results\"])\n",
    "    df.rename({\"collectionName\":\"title\"}, axis=1, inplace=True)\n",
    "\n",
    "    # Reduce to most informative columns.\n",
    "    cols = ['trackId', 'artistName', 'title', \n",
    "            'feedUrl', 'releaseDate',\n",
    "            'trackCount', 'primaryGenreName', \n",
    "            'genreIds', 'genres']\n",
    "    df = df[cols]\n",
    "    return df\n",
    "\n",
    "\n",
    "timestamp_to_unit = {0:1, \n",
    "                     1:60,\n",
    "                     2:3600}\n",
    "\n",
    "\n",
    "def convert_time_string_to_seconds(timestr):\n",
    "    seconds = 0\n",
    "    # Some samples have «min» in string, replace these.\n",
    "    timestr = timestr.replace(\" min\", \"\")\n",
    "    \n",
    "    # Some samples contain an empty string, replace these with np.nan.\n",
    "    if timestr==\"\":\n",
    "        return np.nan\n",
    "    \n",
    "    # Some samples contain erroneous float values as strings, replace these with np.nan.\n",
    "    if type(timestr) is str and \".\" in timestr:\n",
    "        return np.nan\n",
    "        # timestr = timestr.split(\".\")[0]\n",
    "        \n",
    "    try:\n",
    "        for idx, part in enumerate(timestr.split(\":\")[::-1]):\n",
    "            seconds = seconds + int(part) * (timestamp_to_unit[idx])\n",
    "        return seconds\n",
    "    except Exception as e:\n",
    "        print(f\"Likely wrong value «{timestr}» for duration. Omitting this sample.\")\n",
    "        return np.nan\n",
    "\n",
    "\n",
    "def get_episode_data(podcast):\n",
    "    cols = ['title', 'itunes_duration', 'summary', 'published']\n",
    "    frames = []\n",
    "\n",
    "    main_feed = feedparser.parse(podcast.feedUrl)\n",
    "    entry_count = len(main_feed[\"entries\"])\n",
    "\n",
    "    if entry_count==0:\n",
    "        return np.nan\n",
    "\n",
    "    tmp = pd.DataFrame(main_feed[\"entries\"])\n",
    "\n",
    "    # Some episodes do not contain a value for duration, return None in this case.\n",
    "    if \"itunes_duration\" not in tmp.columns:\n",
    "        return np.nan\n",
    "\n",
    "    tmp = tmp[cols]\n",
    "    tmp.rename({\"title\": \"episode_title\"}, axis=1, inplace=True)\n",
    "    tmp[\"artistName\"] = podcast.artistName\n",
    "    tmp[\"title\"] = podcast.title\n",
    "    tmp[\"trackId\"] = podcast.trackId \n",
    "    frames.append(tmp)\n",
    "\n",
    "    cols_reorder = ['trackId', 'artistName', 'title', 'episode_title', 'itunes_duration', 'summary', 'published']\n",
    "    df_ep = pd.concat(frames)\n",
    "    df_ep = df_ep[cols_reorder]\n",
    "    df_ep.reset_index(drop=True, inplace=True)\n",
    "    df_ep.dropna(subset=[\"itunes_duration\"], inplace=True)\n",
    "    df_ep[\"duration_secs\"] = df_ep.itunes_duration.apply(convert_time_string_to_seconds)\n",
    "    \n",
    "    return df_ep"
   ]
  },
  {
   "cell_type": "markdown",
   "metadata": {
    "ExecuteTime": {
     "end_time": "2020-09-22T13:09:41.740211Z",
     "start_time": "2020-09-22T13:09:41.734330Z"
    },
    "tags": []
   },
   "source": [
    "Request the **podcast** data.\n",
    "\n",
    "Note: Queries to the iTunes Search API sometimes do not work for no apparent reason. In this case simply retry executing the cell below again. "
   ]
  },
  {
   "cell_type": "code",
   "execution_count": 14,
   "metadata": {
    "ExecuteTime": {
     "end_time": "2020-09-22T13:09:41.740211Z",
     "start_time": "2020-09-22T13:09:41.734330Z"
    },
    "tags": []
   },
   "outputs": [],
   "source": [
    "%%time\n",
    "\n",
    "market = \"de\"\n",
    "top_n_podcasts = 200\n",
    "\n",
    "frames_pods = []\n",
    "\n",
    "for genre_name, genre_id in tqdm(top_genres.items()):\n",
    "    print(f\"Retrieving metadata for genre: «{genre_name}»\")\n",
    "    df_pods = get_podcast_data(genre_id, market=market, top_n_podcasts=top_n_podcasts)\n",
    "    df_pods[\"genre\"] = genre_name\n",
    "    df_pods[\"genre_id\"] = genre_id\n",
    "    frames_pods.append(df_pods)\n",
    "    \n",
    "df = pd.concat(frames_pods)\n",
    "df.reset_index(drop=True, inplace=True)\n",
    "print(f\"{df.shape[0]:,.0f} podcasts found.\")\n",
    "\n",
    "df.to_csv(f\"_data/itunes_podcasts_{market}.csv\")"
   ]
  },
  {
   "cell_type": "markdown",
   "metadata": {
    "ExecuteTime": {
     "end_time": "2020-09-22T13:09:41.740211Z",
     "start_time": "2020-09-22T13:09:41.734330Z"
    },
    "tags": []
   },
   "source": [
    "Request the **episode** data. Metadata is retrieved for all available episodes in the RSS feed."
   ]
  },
  {
   "cell_type": "code",
   "execution_count": 17,
   "metadata": {
    "ExecuteTime": {
     "end_time": "2020-09-22T13:09:41.740211Z",
     "start_time": "2020-09-22T13:09:41.734330Z"
    },
    "tags": []
   },
   "outputs": [
    {
     "data": {
      "application/vnd.jupyter.widget-view+json": {
       "model_id": "c2485f000cb34811be0a65f6f6bc6eab",
       "version_major": 2,
       "version_minor": 0
      },
      "text/plain": [
       "0it [00:00, ?it/s]"
      ]
     },
     "metadata": {},
     "output_type": "display_data"
    },
    {
     "name": "stdout",
     "output_type": "stream",
     "text": [
      "Likely wrong value «01:05:57:59» for duration. Omitting this sample.\n",
      "Likely wrong value «01:03:48:00» for duration. Omitting this sample.\n"
     ]
    }
   ],
   "source": [
    "frames_eps = []\n",
    "\n",
    "for _, podcast in tqdm(df.iterrows()):\n",
    "    try:\n",
    "        df_eps = get_episode_data(podcast)\n",
    "        if df_eps is np.nan:\n",
    "            continue\n",
    "        df_eps[\"genre\"] = podcast.genre\n",
    "        df_eps[\"genre_id\"] = podcast.genre_id\n",
    "        frames_eps.append(df_eps)\n",
    "        \n",
    "    except Exception as e:\n",
    "        print(e)\n",
    "        continue"
   ]
  },
  {
   "cell_type": "code",
   "execution_count": 18,
   "metadata": {
    "ExecuteTime": {
     "end_time": "2020-09-22T13:09:41.740211Z",
     "start_time": "2020-09-22T13:09:41.734330Z"
    },
    "tags": []
   },
   "outputs": [
    {
     "name": "stdout",
     "output_type": "stream",
     "text": [
      "11,622 episodes found.\n"
     ]
    }
   ],
   "source": [
    "df_eps = pd.concat(frames_eps)\n",
    "df_eps.reset_index(drop=True, inplace=True)\n",
    "print(f\"{df_eps.shape[0]:,.0f} episodes found.\")\n",
    "\n",
    "# # Save data for later use to avoid excessive calls to APIs.\n",
    "# df_eps.to_csv(f\"_data/itunes_episodes_{market}.csv\", index=False)"
   ]
  },
  {
   "cell_type": "markdown",
   "metadata": {
    "ExecuteTime": {
     "end_time": "2020-09-22T13:09:41.740211Z",
     "start_time": "2020-09-22T13:09:41.734330Z"
    },
    "tags": []
   },
   "source": [
    "## Analyse iTunes episode data"
   ]
  },
  {
   "cell_type": "markdown",
   "metadata": {
    "ExecuteTime": {
     "end_time": "2020-09-22T13:09:41.740211Z",
     "start_time": "2020-09-22T13:09:41.734330Z"
    },
    "tags": []
   },
   "source": [
    "Before analysis we remove:\n",
    "- episodes without a value for duration\n",
    "- episodes shorter than 2 minutes (mostly teasers, trailers, announcements or erroneous values)\n",
    "- episodes longer than 10 hours (mostly errors though there are some gaming podcast episodes that are actually longer than 10 hours...)"
   ]
  },
  {
   "cell_type": "code",
   "execution_count": 28,
   "metadata": {
    "ExecuteTime": {
     "end_time": "2020-09-22T13:09:41.740211Z",
     "start_time": "2020-09-22T13:09:41.734330Z"
    },
    "tags": []
   },
   "outputs": [
    {
     "name": "stdout",
     "output_type": "stream",
     "text": [
      "232,055 episodes in full data set.\n",
      "620 episodes without a value for duration.\n",
      "6,469 episodes shorter than 2 minutes.\n",
      "20 episodes longer than 10 hours.\n",
      "224,946 episodes in data set after cleaning.\n",
      "\n"
     ]
    }
   ],
   "source": [
    "# df_eps = pd.read_csv(f\"_data/top_{top_n_podcasts}_episodes_{market}_{date_stamp}.csv\")\n",
    "# Reload saved data\n",
    "df_eps = pd.read_csv(f\"_data/itunes_episodes_de.csv\")\n",
    "print(f\"{len(df_eps):,.0f} episodes in full data set.\")\n",
    "\n",
    "# Drop episodes without value for duration\n",
    "nan_count = len(df_eps[df_eps.duration_secs.isna()])\n",
    "print(f\"{nan_count} episodes without a value for duration.\")\n",
    "df_eps.dropna(subset=[\"duration_secs\"], inplace=True)\n",
    "df_eps.reset_index(drop=True, inplace=True)\n",
    "\n",
    "# Remove episodes shorter than 2 minutes which very likely will be trailers and announcements\n",
    "to_drop = df_eps[df_eps.duration_secs<120].index\n",
    "print(f\"{len(to_drop):,.0f} episodes shorter than 2 minutes.\")\n",
    "df_eps = df_eps.drop(to_drop)\n",
    "df_eps.reset_index(drop=True, inplace=True)\n",
    "\n",
    "# Remove episodes longer than 10 hours which very likely are erroneous values\n",
    "to_drop = df_eps[df_eps.duration_secs>36_000].index\n",
    "print(f\"{len(to_drop)} episodes longer than 10 hours.\")\n",
    "df_eps = df_eps.drop(to_drop)\n",
    "df_eps.reset_index(drop=True, inplace=True)\n",
    "\n",
    "# Calculate duration in minutes\n",
    "df_eps[\"duration_mins\"] = df_eps.duration_secs / 60\n",
    "\n",
    "print(f\"{len(df_eps):,.0f} episodes in data set after cleaning.\")\n",
    "print()\n",
    "\n",
    "# display(df_eps.info(memory_usage=\"deep\"))"
   ]
  },
  {
   "cell_type": "markdown",
   "metadata": {
    "ExecuteTime": {
     "end_time": "2020-09-22T13:09:41.740211Z",
     "start_time": "2020-09-22T13:09:41.734330Z"
    },
    "tags": []
   },
   "source": [
    "We now **calculate basis statistics** of the lengths of the episodes. \n",
    "\n",
    "We have very different episode counts per title. Therefore we first calculate the statistics **per podcast** and only then aggregate these to single values."
   ]
  },
  {
   "cell_type": "code",
   "execution_count": 8,
   "metadata": {
    "ExecuteTime": {
     "end_time": "2020-09-22T13:09:41.740211Z",
     "start_time": "2020-09-22T13:09:41.734330Z"
    },
    "tags": []
   },
   "outputs": [],
   "source": [
    "def get_percentiles(data, perc):\n",
    "    return np.percentile(data, perc)\n",
    "\n",
    "\n",
    "def get_statistics(data, group_key=\"title\"):\n",
    "    data_group = data.groupby(group_key)\n",
    "    mean_ = int(data_group.duration_secs.mean().mean()/60)\n",
    "    median_ = int(data_group.duration_secs.median().median()/60)\n",
    "    \n",
    "    std_ = int(data_group.duration_secs.std().median()/60)\n",
    "    \n",
    "    min_ = int(data_group.duration_secs.min().min()/60)\n",
    "    max_ = int(data_group.duration_secs.max().max()/60)\n",
    "    \n",
    "    perc_5 = int(data_group.duration_secs.agg(lambda x: get_percentiles(x, 5)).median()/60)\n",
    "    perc_95 = int(data_group.duration_secs.agg(lambda x: get_percentiles(x, 95)).median()/60)\n",
    "    \n",
    "    return [median_, mean_, std_, min_, max_, perc_5, perc_95]"
   ]
  },
  {
   "cell_type": "code",
   "execution_count": 9,
   "metadata": {
    "ExecuteTime": {
     "end_time": "2020-09-22T13:09:41.740211Z",
     "start_time": "2020-09-22T13:09:41.734330Z"
    },
    "tags": []
   },
   "outputs": [],
   "source": [
    "results = []\n",
    "\n",
    "for name, data in df_eps.groupby(\"genre\"):    \n",
    "    results.append((name, *get_statistics(data, group_key=\"title\")))"
   ]
  },
  {
   "cell_type": "markdown",
   "metadata": {
    "ExecuteTime": {
     "end_time": "2020-09-22T13:09:41.740211Z",
     "start_time": "2020-09-22T13:09:41.734330Z"
    },
    "tags": []
   },
   "source": [
    "Observations:\n",
    "- We have outliers in the data (see plots below), so the mean is not a suitable metric in this case. I only calculate it for completeness sake.\n",
    "- The median length varies substantially, with a lowest value of ~20 minutes for genre «Bildung» up to ~65 minutes for genre «TV und Film».\n",
    "- From a practical perspective it makes sense to look at the percentiles. E.g., 90% of all episodes in genre «Bildung» have a length between 10 and 43 minutes. If you publish an episode in this percentile range of your genre you are «in good company»."
   ]
  },
  {
   "cell_type": "code",
   "execution_count": 10,
   "metadata": {
    "ExecuteTime": {
     "end_time": "2020-09-22T13:09:41.740211Z",
     "start_time": "2020-09-22T13:09:41.734330Z"
    },
    "tags": []
   },
   "outputs": [
    {
     "name": "stdout",
     "output_type": "stream",
     "text": [
      "iTunes podcast lengths – various statistics, values in minutes\n",
      "Calculated from 1,766 podcasts and 224,946 episodes\n",
      "\n",
      "iTunes Genre                  median    mean    std    min    max    5%    95%\n",
      "--------------------------  --------  ------  -----  -----  -----  ----  -----\n",
      "TV und Film                       65      68     19      2    358    34     96\n",
      "Comedy                            62      64     12      2    486    42     78\n",
      "Musik                             60      65     15      2    550    57     78\n",
      "Freizeit                          59      66     15      2    594    31     82\n",
      "Sport                             52      58     16      2    311    24     83\n",
      "Technologie                       47      52     13      2    372    26     66\n",
      "Gesellschaft und Kultur           42      47     11      2    310    26     61\n",
      "Kunst                             42      47     13      2    437    18     68\n",
      "Wahre Kriminalfälle               40      44     12      2    285    23     61\n",
      "Geschichte                        40      43     12      2    368    21     59\n",
      "Wissenschaft                      39      48     12      2    483    18     62\n",
      "Religion und Spiritualität        34      35      8      2    445    19     52\n",
      "Nachrichten                       34      43     10      2    337    18     48\n",
      "Gesundheit und Fitness            32      34     13      2    209    13     58\n",
      "Regierung                         30      34     11      2    382    14     46\n",
      "Kinder und Familie                27      30      9      2    137    13     50\n",
      "Fiktion                           26      29     11      2    292    11     42\n",
      "Wirtschaft                        22      28     10      2    242    10     43\n",
      "Bildung                           20      26      9      2    263    10     43\n",
      "\n"
     ]
    }
   ],
   "source": [
    "print(\"iTunes podcast lengths – various statistics, values in minutes\")\n",
    "print(f\"Calculated from {df_eps.title.nunique():,.0f} podcasts and {len(df_eps):,.0f} episodes\\n\")\n",
    "stats = pd.DataFrame(results, columns=[\"genre\", \"median\", \"mean\", \"std\", \"min\", \"max\", \"5%\", \"95%\"]).sort_values(by=\"median\", ascending=False)\n",
    "stats.rename({\"genre\": \"iTunes Genre\"}, axis=1, inplace=True)\n",
    "print(tabulate(stats, showindex=False, headers=\"keys\"))\n",
    "print()"
   ]
  },
  {
   "cell_type": "markdown",
   "metadata": {
    "ExecuteTime": {
     "end_time": "2020-09-22T13:09:41.740211Z",
     "start_time": "2020-09-22T13:09:41.734330Z"
    },
    "tags": []
   },
   "source": [
    "Looking at all podcasts regardless of genre we get a **typical length of ~39 minutes** and **a range between 20 and 61 minutes wherein 90% of all episode lengths lie**."
   ]
  },
  {
   "cell_type": "code",
   "execution_count": 11,
   "metadata": {
    "ExecuteTime": {
     "end_time": "2020-09-22T13:09:41.740211Z",
     "start_time": "2020-09-22T13:09:41.734330Z"
    },
    "tags": []
   },
   "outputs": [
    {
     "name": "stdout",
     "output_type": "stream",
     "text": [
      "Statistics for all episodes\n",
      "  median    mean    std    min    max    5%    95%\n",
      "--------  ------  -----  -----  -----  ----  -----\n",
      "      39      45     12      2    594    20     61\n",
      "\n"
     ]
    }
   ],
   "source": [
    "stats_total = get_statistics(df_eps)\n",
    "stats_total = pd.DataFrame(stats_total).T\n",
    "stats_total.columns = [\"median\", \"mean\", \"std\", \"min\", \"max\", \"5%\", \"95%\"]\n",
    "print(\"Statistics for all episodes\")\n",
    "print(tabulate(stats_total, showindex=False, headers=\"keys\"))\n",
    "print()"
   ]
  },
  {
   "cell_type": "markdown",
   "metadata": {
    "ExecuteTime": {
     "end_time": "2020-09-22T13:09:41.740211Z",
     "start_time": "2020-09-22T13:09:41.734330Z"
    },
    "tags": []
   },
   "source": [
    "From **plotting the lengths for each podcast genre** we observe:\n",
    "- The data is not normally distributed but quite skewed.\n",
    "- There are a lot of outliers which mostly are unusually long episodes. \n",
    "- Some genres have clear length patterns, e.g., «Musik» with clear clusters at 30, 60, 120 minutes. Or «Wissenschaft» with two distinct clusters around 10 and 60 minutes. Some of these might be radio broadcasts that are published as podcasts too."
   ]
  },
  {
   "cell_type": "code",
   "execution_count": 16,
   "metadata": {
    "ExecuteTime": {
     "end_time": "2020-09-22T13:09:41.740211Z",
     "start_time": "2020-09-22T13:09:41.734330Z"
    },
    "tags": []
   },
   "outputs": [],
   "source": [
    "rng = range(0, 630, 30)\n",
    "\n",
    "for genre in df_eps.genre.unique():\n",
    "    tmp = df_eps[df_eps.genre==genre]\n",
    "    \n",
    "    fig, axes = plt.subplots(figsize=(16,6), nrows=2)\n",
    "    plt.suptitle(f\"iTunes podcast genre: «{genre}»\", size=24)\n",
    "    sns.stripplot(data=tmp, x=\"duration_mins\", jitter=0.4, size=1.5, ax=axes[0])\n",
    "    sns.boxplot(data=tmp, x=\"duration_mins\", ax=axes[1])\n",
    "\n",
    "    for idx, ax_ in enumerate(axes):\n",
    "        ax_.set_xticks(rng)\n",
    "        ax_.set_xlim(0, 300)\n",
    "        if idx==0:\n",
    "            ax_.set_xlabel(\"\")\n",
    "        else:\n",
    "            ax_.set_xlabel(\"Duration, in minutes, cut off at 300 mins for better readability\")\n",
    "        \n",
    "    plt.tight_layout()\n",
    "    plt.savefig(f'_plots/itunes_{genre.replace(\" \", \"_\")}.png')\n",
    "    plt.show()"
   ]
  },
  {
   "cell_type": "markdown",
   "metadata": {},
   "source": [
    "# Spotify\n",
    "---"
   ]
  },
  {
   "cell_type": "markdown",
   "metadata": {
    "ExecuteTime": {
     "end_time": "2020-09-22T13:09:41.740211Z",
     "start_time": "2020-09-22T13:09:41.734330Z"
    },
    "tags": []
   },
   "source": [
    "## Get podcast data from Spotify API"
   ]
  },
  {
   "cell_type": "markdown",
   "metadata": {
    "ExecuteTime": {
     "end_time": "2020-09-22T13:09:41.740211Z",
     "start_time": "2020-09-22T13:09:41.734330Z"
    },
    "tags": []
   },
   "source": [
    "I couldn't find an official endpoint for Spotify's podcast top charts. I therefore scrape the current charts from [this website](https://podcastcharts.byspotify.com/)."
   ]
  },
  {
   "cell_type": "code",
   "execution_count": 17,
   "metadata": {
    "ExecuteTime": {
     "end_time": "2020-09-22T13:09:41.740211Z",
     "start_time": "2020-09-22T13:09:41.734330Z"
    },
    "tags": []
   },
   "outputs": [],
   "source": [
    "# Scrape data from this site: https://podcastcharts.byspotify.com/\n",
    "market = \"de\"\n",
    "params = (('region', market),)\n",
    "\n",
    "# \n",
    "GENRES = [\"top\", \"arts\", \"business\", \"comedy\", \"education\", \"fiction\", \n",
    "          \"health%252520%2526%252520fitness\", \"history\", \"leisure\", \n",
    "          \"music\", \"news\", \"religion%252520%2526%252520spirituality\",\n",
    "         \"science\", \"society%252520%2526%252520culture\", \"sports\", \"technology\",\n",
    "         \"true%252520crime\", \"tv%252520%2526%252520film\"]\n",
    "\n",
    "\n",
    "GENRES_CLEAN = [\"Top Charts\", \"Arts\", \"Business\", \"Comedy\", \"Education\", \"Fiction\", \n",
    "          \"Health & Fitness\", \"History\", \"Leisure\", \"Music\", \"News\", \n",
    "          \"Religion & Spirituality\", \"Science\", \"Society & Culture\", \n",
    "          \"Sports\", \"Technology\", \"True Crime\", \"TV & Film\"]\n",
    "\n",
    "genre_mapping = dict(zip(GENRES, GENRES_CLEAN))"
   ]
  },
  {
   "cell_type": "code",
   "execution_count": 27,
   "metadata": {
    "ExecuteTime": {
     "end_time": "2020-09-22T13:09:41.740211Z",
     "start_time": "2020-09-22T13:09:41.734330Z"
    },
    "tags": []
   },
   "outputs": [
    {
     "data": {
      "application/vnd.jupyter.widget-view+json": {
       "model_id": "d5c1d9b561944c059e308eb578176548",
       "version_major": 2,
       "version_minor": 0
      },
      "text/plain": [
       "0it [00:00, ?it/s]"
      ]
     },
     "metadata": {},
     "output_type": "display_data"
    },
    {
     "name": "stdout",
     "output_type": "stream",
     "text": [
      "Top Charts 200\n",
      "Arts 50\n",
      "Business 50\n",
      "Comedy 50\n",
      "Education 50\n",
      "Fiction 41\n",
      "Health & Fitness 50\n",
      "History 50\n",
      "Leisure 50\n",
      "Music 50\n",
      "News 50\n",
      "Religion & Spirituality 50\n",
      "Science 50\n",
      "Society & Culture 50\n",
      "Sports 50\n",
      "Technology 36\n",
      "True Crime 50\n",
      "TV & Film 43\n"
     ]
    }
   ],
   "source": [
    "frames_shows = []\n",
    "\n",
    "for genre, genre_clean in tqdm(zip(GENRES, GENRES_CLEAN)):\n",
    "    url = f\"https://podcastcharts.byspotify.com/api/charts//{genre}\"\n",
    "    res = requests.get(url, params=params)\n",
    "    assert res.status_code==200\n",
    "    df = pd.DataFrame(json.loads(res.content))\n",
    "    df[\"genre\"] = genre_clean\n",
    "    print(genre_clean, len(df))\n",
    "    frames_shows.append(df)\n",
    "    time.sleep(1)\n",
    "        \n",
    "df = pd.concat(frames_shows)\n",
    "df.reset_index(drop=True, inplace=True)\n",
    "\n",
    "# Save result with date stamp, genre and market\n",
    "market = \"de\"\n",
    "df.to_csv(f\"_data/spotify_podcasts_{market}.csv\", index=False)"
   ]
  },
  {
   "cell_type": "code",
   "execution_count": 31,
   "metadata": {
    "ExecuteTime": {
     "end_time": "2020-09-22T13:09:41.740211Z",
     "start_time": "2020-09-22T13:09:41.734330Z"
    },
    "tags": []
   },
   "outputs": [
    {
     "name": "stdout",
     "output_type": "stream",
     "text": [
      "1020 podcasts found in Spotify's top lists.\n"
     ]
    }
   ],
   "source": [
    "print(f\"{df.shape[0]} podcasts found in Spotify's top lists.\")"
   ]
  },
  {
   "cell_type": "markdown",
   "metadata": {
    "ExecuteTime": {
     "end_time": "2020-09-22T13:09:41.740211Z",
     "start_time": "2020-09-22T13:09:41.734330Z"
    },
    "tags": []
   },
   "source": [
    "Retrieve **episode data** for all podcats."
   ]
  },
  {
   "cell_type": "code",
   "execution_count": 35,
   "metadata": {
    "ExecuteTime": {
     "end_time": "2020-09-22T13:09:41.740211Z",
     "start_time": "2020-09-22T13:09:41.734330Z"
    },
    "tags": []
   },
   "outputs": [
    {
     "data": {
      "application/vnd.jupyter.widget-view+json": {
       "model_id": "15d93cc342ed438c9301a07bd51bc4a7",
       "version_major": 2,
       "version_minor": 0
      },
      "text/plain": [
       "0it [00:00, ?it/s]"
      ]
     },
     "metadata": {},
     "output_type": "display_data"
    }
   ],
   "source": [
    "frames_episodes = []\n",
    "\n",
    "for _, data in tqdm(df.iterrows()):\n",
    "    shows = spotify.show_episodes(data.showUri, market=\"de\")\n",
    "    shows = pd.DataFrame(shows[\"items\"])\n",
    "    shows[\"genre\"] = data.genre\n",
    "    shows[\"showUri\"] = data.showUri\n",
    "    shows[\"showName\"] = data.showName\n",
    "    shows[\"showPublisher\"] = data.showPublisher\n",
    "    frames_episodes.append(shows)"
   ]
  },
  {
   "cell_type": "code",
   "execution_count": 36,
   "metadata": {
    "ExecuteTime": {
     "end_time": "2020-09-22T13:09:41.740211Z",
     "start_time": "2020-09-22T13:09:41.734330Z"
    },
    "tags": []
   },
   "outputs": [
    {
     "name": "stdout",
     "output_type": "stream",
     "text": [
      "<class 'pandas.core.frame.DataFrame'>\n",
      "RangeIndex: 37953 entries, 0 to 37952\n",
      "Data columns (total 25 columns):\n",
      " #   Column                  Non-Null Count  Dtype  \n",
      "---  ------                  --------------  -----  \n",
      " 0   audio_preview_url       37655 non-null  object \n",
      " 1   description             37953 non-null  object \n",
      " 2   duration_ms             37953 non-null  int64  \n",
      " 3   explicit                37953 non-null  bool   \n",
      " 4   external_urls           37953 non-null  object \n",
      " 5   href                    37953 non-null  object \n",
      " 6   html_description        37953 non-null  object \n",
      " 7   id                      37953 non-null  object \n",
      " 8   images                  37953 non-null  object \n",
      " 9   is_externally_hosted    37953 non-null  bool   \n",
      " 10  is_playable             37953 non-null  bool   \n",
      " 11  language                37953 non-null  object \n",
      " 12  languages               37953 non-null  object \n",
      " 13  name                    37953 non-null  object \n",
      " 14  release_date            37953 non-null  object \n",
      " 15  release_date_precision  37953 non-null  object \n",
      " 16  type                    37953 non-null  object \n",
      " 17  uri                     37953 non-null  object \n",
      " 18  genre                   37953 non-null  object \n",
      " 19  showUri                 37953 non-null  object \n",
      " 20  showName                37953 non-null  object \n",
      " 21  showPublisher           37953 non-null  object \n",
      " 22  restriction             3 non-null      object \n",
      " 23  duration_secs           37953 non-null  float64\n",
      " 24  duration_mins           37953 non-null  float64\n",
      "dtypes: bool(3), float64(2), int64(1), object(19)\n",
      "memory usage: 186.7 MB\n"
     ]
    },
    {
     "data": {
      "text/plain": [
       "None"
      ]
     },
     "metadata": {},
     "output_type": "display_data"
    }
   ],
   "source": [
    "df_eps = pd.concat(frames_episodes)\n",
    "df_eps.reset_index(drop=True, inplace=True)\n",
    "df_eps[\"duration_secs\"] = df_eps.duration_ms / 1000\n",
    "df_eps[\"duration_mins\"] = df_eps.duration_secs / 60\n",
    "display(df_eps.info(memory_usage=\"deep\"))"
   ]
  },
  {
   "cell_type": "code",
   "execution_count": 37,
   "metadata": {
    "ExecuteTime": {
     "end_time": "2020-09-22T13:09:41.740211Z",
     "start_time": "2020-09-22T13:09:41.734330Z"
    },
    "tags": []
   },
   "outputs": [],
   "source": [
    "df_eps.to_csv(f\"_data/spotify_episodes_{market}.csv\", index=False)"
   ]
  },
  {
   "cell_type": "markdown",
   "metadata": {
    "ExecuteTime": {
     "end_time": "2020-09-22T13:09:41.740211Z",
     "start_time": "2020-09-22T13:09:41.734330Z"
    },
    "tags": []
   },
   "source": [
    "## Analyse Spotify episode data"
   ]
  },
  {
   "cell_type": "code",
   "execution_count": 18,
   "metadata": {
    "ExecuteTime": {
     "end_time": "2020-09-22T13:09:41.740211Z",
     "start_time": "2020-09-22T13:09:41.734330Z"
    },
    "tags": []
   },
   "outputs": [
    {
     "name": "stdout",
     "output_type": "stream",
     "text": [
      "37,953 episodes in full data set.\n",
      "0 episodes without a value for duration.\n",
      "724 episodes shorter than 2 minutes.\n",
      "37,229 episodes in data set after cleaning.\n",
      "\n"
     ]
    }
   ],
   "source": [
    "# df_eps = pd.read_csv(f\"_data/top_{top_n_podcasts}_episodes_{market}_{date_stamp}.csv\")\n",
    "# Reload saved data.\n",
    "df_eps = pd.read_csv(f\"_data/spotify_episodes_de.csv\", low_memory=False)\n",
    "print(f\"{len(df_eps):,.0f} episodes in full data set.\")\n",
    "\n",
    "# Drop episodes without value for duration.\n",
    "nan_count = len(df_eps[df_eps.duration_secs.isna()])\n",
    "print(f\"{nan_count} episodes without a value for duration.\")\n",
    "df_eps.dropna(subset=[\"duration_secs\"], inplace=True)\n",
    "df_eps.reset_index(drop=True, inplace=True)\n",
    "\n",
    "# Remove episodes shorter than 2 minutes which very likely will be trailers and announcements.\n",
    "to_drop = df_eps[df_eps.duration_secs<120].index\n",
    "print(f\"{len(to_drop):,.0f} episodes shorter than 2 minutes.\")\n",
    "df_eps = df_eps.drop(to_drop)\n",
    "df_eps.reset_index(drop=True, inplace=True)\n",
    "\n",
    "# There aren't any episodes that are longer than 10 hours.\n",
    "# So nothing to remove in terms of unusually long (outlying) episodes.\n",
    "\n",
    "print(f\"{len(df_eps):,.0f} episodes in data set after cleaning.\")\n",
    "print()\n",
    "\n",
    "# display(df_eps.info(memory_usage=\"deep\"))"
   ]
  },
  {
   "cell_type": "code",
   "execution_count": 19,
   "metadata": {
    "ExecuteTime": {
     "end_time": "2020-09-22T13:09:41.740211Z",
     "start_time": "2020-09-22T13:09:41.734330Z"
    },
    "tags": []
   },
   "outputs": [],
   "source": [
    "g = df_eps.groupby(\"genre\")\n",
    "results = []\n",
    "\n",
    "for name, data in g:    \n",
    "    results.append((name, *get_statistics(data, group_key=\"showName\")))"
   ]
  },
  {
   "cell_type": "markdown",
   "metadata": {
    "ExecuteTime": {
     "end_time": "2020-09-22T13:09:41.740211Z",
     "start_time": "2020-09-22T13:09:41.734330Z"
    },
    "tags": []
   },
   "source": [
    "Observations:\n",
    "- The median length varies substantially, with a lowest value of ~14 minutes for genre «Religion & Spirituality» up to ~70 minutes for genre «TV und Film».\n",
    "- Again the percentiles provide meaningful goal posts. As an example: 90% of all episodes in «Comedy» have a length between 44 and 67 minutes. Lengths in this range can be considered prototypical for this genre."
   ]
  },
  {
   "cell_type": "code",
   "execution_count": 20,
   "metadata": {
    "ExecuteTime": {
     "end_time": "2020-09-22T13:09:41.740211Z",
     "start_time": "2020-09-22T13:09:41.734330Z"
    },
    "tags": []
   },
   "outputs": [
    {
     "name": "stdout",
     "output_type": "stream",
     "text": [
      "Spotify podcast lengths – various statistics, values in minutes\n",
      "Calculated from 37,229 episodes of 821 podcasts\n",
      "\n",
      "Spotify Genre              median    mean    std    min    max    5%    95%\n",
      "-----------------------  --------  ------  -----  -----  -----  ----  -----\n",
      "TV & Film                      70      71     16      2    290    45     94\n",
      "Sports                         60      62     13      2    192    40     83\n",
      "Comedy                         55      55      7      2    228    44     67\n",
      "Society & Culture              53      60      9      2    520    38     64\n",
      "True Crime                     46      50     11      2    247    31     62\n",
      "Music                          44      51      9      2    222    32     60\n",
      "Top Charts                     43      46      9      2    520    27     58\n",
      "History                        42      45     10      2    346    28     56\n",
      "Technology                     39      44     11      2    253    20     60\n",
      "Leisure                        38      48     11      2    402    28     59\n",
      "Arts                           33      58     11      2    582    21     53\n",
      "Business                       30      37     10      2    273    19     54\n",
      "Health & Fitness               29      34     10      2    186    16     49\n",
      "News                           29      34      5      2    213    23     36\n",
      "Science                        28      33      7      2    293    17     35\n",
      "Fiction                        26      33     10      2    242    14     45\n",
      "Education                      19      25      5      2    165    11     31\n",
      "Religion & Spirituality        14      23      6      2    302     6     27\n",
      "\n"
     ]
    }
   ],
   "source": [
    "print(\"Spotify podcast lengths – various statistics, values in minutes\")\n",
    "print(f\"Calculated from {len(df_eps):,.0f} episodes of {df_eps.showName.nunique():,.0f} podcasts\\n\")\n",
    "stats = pd.DataFrame(results, columns=[\"genre\", \"median\", \"mean\", \"std\", \"min\", \"max\", \"5%\", \"95%\"]).sort_values(by=\"median\", ascending=False)\n",
    "stats.rename({\"genre\": \"Spotify Genre\"}, axis=1, inplace=True)\n",
    "print(tabulate(stats, showindex=False, headers=\"keys\"))\n",
    "print()"
   ]
  },
  {
   "cell_type": "markdown",
   "metadata": {
    "ExecuteTime": {
     "end_time": "2020-09-22T13:09:41.740211Z",
     "start_time": "2020-09-22T13:09:41.734330Z"
    },
    "tags": []
   },
   "source": [
    "Looking at all podcasts regardless of genre we get a **typical length of ~38 minutes** and **a range between 23 and 55 minutes wherein 90% of all episodes lie**. \n",
    "\n",
    "This is very close to our findings in the iTunes data (39 minutes median, 20-61 minutes range)."
   ]
  },
  {
   "cell_type": "code",
   "execution_count": 21,
   "metadata": {
    "ExecuteTime": {
     "end_time": "2020-09-22T13:09:41.740211Z",
     "start_time": "2020-09-22T13:09:41.734330Z"
    },
    "tags": []
   },
   "outputs": [
    {
     "name": "stdout",
     "output_type": "stream",
     "text": [
      "Statistics for all episodes\n",
      "  median    mean    std    min    max    5%    95%\n",
      "--------  ------  -----  -----  -----  ----  -----\n",
      "      38      45     10      2    582    23     55\n",
      "\n"
     ]
    }
   ],
   "source": [
    "stats_total = get_statistics(df_eps, group_key=\"showName\")\n",
    "stats_total = pd.DataFrame(stats_total).T\n",
    "stats_total.columns = [\"median\", \"mean\", \"std\", \"min\", \"max\", \"5%\", \"95%\"]\n",
    "print(\"Statistics for all episodes\")\n",
    "print(tabulate(stats_total, showindex=False, headers=\"keys\"))\n",
    "print()"
   ]
  },
  {
   "cell_type": "markdown",
   "metadata": {
    "ExecuteTime": {
     "end_time": "2020-09-22T13:09:41.740211Z",
     "start_time": "2020-09-22T13:09:41.734330Z"
    },
    "tags": []
   },
   "source": [
    "From plotting the lengths for each podcast genre we observe:\n",
    "- The data is not normally distributed.\n",
    "- We see a lot of outliers. \n",
    "- Distinct length clusters e.g. in genres «News» and «Science». "
   ]
  },
  {
   "cell_type": "code",
   "execution_count": 22,
   "metadata": {
    "ExecuteTime": {
     "end_time": "2020-09-22T13:09:41.740211Z",
     "start_time": "2020-09-22T13:09:41.734330Z"
    },
    "tags": []
   },
   "outputs": [],
   "source": [
    "rng = range(0, 630, 30)\n",
    "\n",
    "for genre in df_eps.genre.unique():\n",
    "    tmp = df_eps[df_eps.genre==genre]\n",
    "    \n",
    "    fig, axes = plt.subplots(figsize=(16,6), nrows=2)\n",
    "    plt.suptitle(f\"Spotify podcast genre: «{genre}»\", size=24)\n",
    "    sns.stripplot(data=tmp, x=\"duration_mins\", jitter=0.4, size=3, ax=axes[0])\n",
    "    sns.boxplot(data=tmp, x=\"duration_mins\", ax=axes[1])\n",
    "\n",
    "    for idx, ax_ in enumerate(axes):\n",
    "        ax_.set_xticks(rng)\n",
    "        ax_.set_xlim(0, 300)\n",
    "        if idx==0:\n",
    "            ax_.set_xlabel(\"\")\n",
    "        else:\n",
    "            ax_.set_xlabel(\"Duration, in minutes, cut off at 300 mins for better readability\")\n",
    "        \n",
    "    plt.tight_layout()\n",
    "    plt.savefig(f'_plots/spotify_{genre.replace(\" \", \"_\")}.png')\n",
    "    plt.show()"
   ]
  }
 ],
 "metadata": {
  "hide_input": false,
  "kernelspec": {
   "display_name": "Python 3 (ipykernel)",
   "language": "python",
   "name": "python3"
  },
  "language_info": {
   "codemirror_mode": {
    "name": "ipython",
    "version": 3
   },
   "file_extension": ".py",
   "mimetype": "text/x-python",
   "name": "python",
   "nbconvert_exporter": "python",
   "pygments_lexer": "ipython3",
   "version": "3.8.12"
  },
  "toc": {
   "base_numbering": 1,
   "nav_menu": {},
   "number_sections": false,
   "sideBar": true,
   "skip_h1_title": false,
   "title_cell": "Table of Contents",
   "title_sidebar": "Contents",
   "toc_cell": false,
   "toc_position": {},
   "toc_section_display": true,
   "toc_window_display": false
  },
  "toc-autonumbering": false,
  "toc-showcode": false,
  "toc-showmarkdowntxt": false
 },
 "nbformat": 4,
 "nbformat_minor": 4
}
