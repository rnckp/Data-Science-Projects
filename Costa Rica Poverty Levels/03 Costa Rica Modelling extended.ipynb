{
 "cells": [
  {
   "cell_type": "markdown",
   "id": "e0f41825-6ec2-42ff-a4c4-68bc9fb35526",
   "metadata": {},
   "source": [
    "# Imports"
   ]
  },
  {
   "cell_type": "code",
   "execution_count": 1,
   "id": "5011b9a5-7cc2-432d-8942-5b334e62a7fe",
   "metadata": {},
   "outputs": [],
   "source": [
    "%matplotlib inline\n",
    "%config InlineBackend.figure_format = 'retina'\n",
    "import matplotlib.pyplot as plt\n",
    "import matplotlib.cm as cm\n",
    "\n",
    "plt.style.use('ggplot')\n",
    "\n",
    "TITLE_SIZE = 22\n",
    "TITLE_PADDING = 10\n",
    "\n",
    "import seaborn as sns\n",
    "\n",
    "params = {\n",
    "    'text.color': (0.25, 0.25, 0.25),\n",
    "    'figure.figsize': [12, 5],\n",
    "   }\n",
    "plt.rcParams.update(params)\n",
    "\n",
    "import pandas as pd\n",
    "pd.options.display.max_rows = 500\n",
    "\n",
    "import numpy as np\n",
    "from numpy import percentile\n",
    "np.random.seed(42)\n",
    "\n",
    "import copy\n",
    "import os\n",
    "import time\n",
    "from tqdm.notebook import tqdm"
   ]
  },
  {
   "cell_type": "code",
   "execution_count": 2,
   "id": "836703ea-b630-4fa4-ba52-87447358297e",
   "metadata": {},
   "outputs": [],
   "source": [
    "from sklearn.preprocessing import StandardScaler\n",
    "from sklearn.impute import SimpleImputer\n",
    "from sklearn.pipeline import make_pipeline\n",
    "from sklearn.model_selection import train_test_split, cross_val_score\n",
    "from sklearn.model_selection import StratifiedKFold\n",
    "from sklearn.metrics import f1_score\n",
    "\n",
    "from sklearn import set_config\n",
    "set_config(display='diagram')\n",
    "\n",
    "import lightgbm as lgb\n",
    "\n",
    "from hyperopt import hp, tpe, Trials, fmin, STATUS_OK\n",
    "from hyperopt.pyll.stochastic import sample\n",
    "\n",
    "import warnings\n",
    "warnings.simplefilter(action='ignore', category=FutureWarning)\n",
    "warnings.filterwarnings(\"ignore\", category=UserWarning)"
   ]
  },
  {
   "cell_type": "markdown",
   "id": "32ceec08-54aa-4427-8b77-b4612df09ddc",
   "metadata": {},
   "source": [
    "# Using techniques found on Kaggle\n",
    "---"
   ]
  },
  {
   "cell_type": "markdown",
   "id": "8b7696b2-dab5-4dd8-ab70-61531a8d27df",
   "metadata": {},
   "source": [
    "Until this point **I have not looked at any of the Kaggle kernels or discussions.** I just took the data, the codebook.csv and the [quite sparse competition overview](https://www.kaggle.com/c/costa-rican-household-poverty-prediction) and tried to understand the data and solve the problem on my own. \n",
    "\n",
    "For this third notebook I now take information from Kaggle and use that to learn and improve the results. I especially looked into the following notebooks and took code, suggestions and ideas:\n",
    "\n",
    "- [A Complete Introduction and Walkthrough](https://www.kaggle.com/willkoehrsen/a-complete-introduction-and-walkthrough) \n",
    "- [LightGBM hyperoptimization with f1 macro](https://www.kaggle.com/chmaxx/lighgbm-hyperoptimisation-with-f1-macro)\n",
    "- [Exploratory data analysis lightgbm](https://www.kaggle.com/gaxxxx/exploratory-data-analysis-lightgbm)\n",
    "- [XGBoost](https://www.kaggle.com/skooch/xgboost) (though I did use LightGBM for any of my experiments and submissions)"
   ]
  },
  {
   "cell_type": "markdown",
   "id": "86bee1e5-3371-46ea-b247-c04d11e577fe",
   "metadata": {},
   "source": [
    "### What can I learn in addition?\n",
    "\n",
    "Some of the Kaggle ideas and techniques that I find valuable: \n",
    "\n",
    "**Data preparation**\n",
    "- Retransform ordinals back from bools to give model more information about order of values \n",
    "- Remove perfectly or very highly correlated variables\n",
    "- Add columns to indicate missing values\n",
    "\n",
    "**Feature engineering**\n",
    "- Create compositions of variables to get «overall» features, e.g. «overall quality of housing»\n",
    "- Create «warning» features composed of crucial items that strongly indicate imminent poverty\n",
    "- Count actual people living in household rather than being household members\n",
    "- In general try much more feature combinations\n",
    "\n",
    "**Coding**\n",
    "- Use pandas' `agg` function to aggregate data to household level rather than using separate functions for mean/avg/std etc.\n",
    "\n",
    "**Training**\n",
    "- Use early stopping for LightGBM\n",
    "- Use HyperOpt for hyperparameter search\n",
    "- Visualize confidence of model in regard to target classes \n",
    "\n",
    "**Visualization**\n",
    "- More thoroughly investigate and plot features in regard to target, e.g. schooling, gender, overcrowding\n",
    "- Plot model performance with error bars\n",
    "\n",
    "---\n",
    "#### To Do\n",
    "In this notebook I'd like to \n",
    "1. add some **feature engineering**\n",
    "2. try to set up **early stopping**\n",
    "3. use **HyperOpt** to improve hyperparameter search"
   ]
  },
  {
   "cell_type": "markdown",
   "id": "15671d42-22d7-46df-8972-d714bd023503",
   "metadata": {
    "tags": []
   },
   "source": [
    "# 0) Preparing the data again"
   ]
  },
  {
   "cell_type": "code",
   "execution_count": 3,
   "id": "6387a1aa-90c2-4df7-9bac-a78b905282c7",
   "metadata": {
    "tags": []
   },
   "outputs": [
    {
     "name": "stdout",
     "output_type": "stream",
     "text": [
      "Check data frame shapes before and after:\n",
      "(9557, 143) (23856, 142) (33413, 143)\n",
      "(9534, 132) (23856, 132) (33390, 132)\n"
     ]
    }
   ],
   "source": [
    "train = pd.read_csv(\"_data/train.csv\")\n",
    "test_kaggle = pd.read_csv(\"_data/test.csv\")\n",
    "df = pd.concat([train, test_kaggle]).reset_index(drop=True)\n",
    "print(\"Check data frame shapes before and after:\")\n",
    "print(train.shape, test_kaggle.shape, df.shape)\n",
    "\n",
    "# Drop redundant features\n",
    "derivative_features = ['SQBescolari', 'SQBage', 'SQBhogar_total', 'SQBedjefe', \n",
    "                       'SQBhogar_nin', 'SQBovercrowding', 'SQBdependency', \n",
    "                       'SQBmeaned', 'agesq', \"female\", \"area2\"]\n",
    "df.drop(derivative_features, axis=1, inplace=True)\n",
    "\n",
    "# Replace 0/1 for value «no»/«yes» according to Kaggle discussion\n",
    "cols = [\"dependency\", \"edjefe\", \"edjefa\"]\n",
    "for col in cols:\n",
    "    df[col].replace({\"no\":0}, inplace=True)\n",
    "    df[col].replace({\"yes\":1}, inplace=True)\n",
    "    df[col] = df[col].astype(float)\n",
    "    \n",
    "# Clean the one erroneous value for rez_esc. Set to 5 according to Kaggle \n",
    "years_behind_mean = np.mean(train.rez_esc)\n",
    "df.loc[df[df.rez_esc==99.0].index, \"rez_esc\"] = 5\n",
    "\n",
    "# Clean target variable for households that have been qualified with more than one unique class of welfare neediness.\n",
    "# We set the target class for all members to the one the head of household has.\n",
    "tmp = df.groupby(\"idhogar\").Target.nunique()\n",
    "erroneous_households = tmp[tmp>1].index.to_list()\n",
    "for household in erroneous_households:\n",
    "    to_fix = df[df.idhogar==household].index\n",
    "    true_class_label = df[(df.idhogar==household) & (df.parentesco1==1)].Target.values[0]\n",
    "    df.loc[to_fix, \"Target\"] = true_class_label\n",
    "\n",
    "# Remove households without a head of household.\n",
    "# We only drop samples in the training set because we need all test samples for a Kaggle submission.\n",
    "tmp = df[df.Target.notnull()].groupby(\"idhogar\").parentesco1.sum()\n",
    "without_head = tmp[tmp==0].index\n",
    "to_drop = df[df.idhogar.isin(without_head)].index\n",
    "df.drop(to_drop, inplace=True)    \n",
    "\n",
    "# Split again into train and test set.\n",
    "train = df[df.Target.notnull()].copy()\n",
    "test_kaggle = df[df.Target.isnull()].copy()\n",
    "\n",
    "train.reset_index(drop=True, inplace=True)\n",
    "test_kaggle.reset_index(drop=True, inplace=True)\n",
    "\n",
    "print(train.shape, test_kaggle.shape, df.shape)"
   ]
  },
  {
   "cell_type": "code",
   "execution_count": 4,
   "id": "2434b590-176d-4e20-b2c7-ec46390ed4c4",
   "metadata": {
    "tags": []
   },
   "outputs": [],
   "source": [
    "# Read manually annotated codebook\n",
    "cb = pd.read_excel(\"_data/codebook_cleaned.xlsx\")\n",
    "to_drop = cb[cb.name.isin([\"female\", \"area2\", \"idhogar\", \"Target\"])].index\n",
    "cb.drop(to_drop, inplace=True)\n",
    "categoricals = cb[cb.cat==1].name.copy()\n",
    "numericals = cb[cb.cat!=1].name.copy()\n",
    "\n",
    "indiv_feats = cb[cb.indiv==1].name\n",
    "house_feats = cb[cb.indiv!=1].name"
   ]
  },
  {
   "cell_type": "code",
   "execution_count": 5,
   "id": "a3242b91-bb71-44e9-9a55-b7b3b731a32a",
   "metadata": {},
   "outputs": [],
   "source": [
    "def aggregate_to_household(data_set, aggregate_train=True):\n",
    "    g = data_set.groupby(\"idhogar\")\n",
    "    results = []\n",
    "    for name, data in tqdm(g):\n",
    "        tmp = data[data.parentesco1==1].copy()\n",
    "        tmp = tmp[house_feats].reset_index(drop=True)\n",
    "        \n",
    "        tmp_indiv = data[indiv_feats]\n",
    "        feats_mean = np.mean(tmp_indiv)\n",
    "        feats_mean = pd.DataFrame(feats_mean).T\n",
    "        feats_mean.columns = feats_mean.columns + \"_mean\"\n",
    "        \n",
    "        feats_std = pd.DataFrame(np.std(tmp_indiv)).T\n",
    "        feats_std.columns = feats_std.columns + \"_std\"\n",
    "        \n",
    "        feats_sum = pd.DataFrame(np.sum(tmp_indiv)).T\n",
    "        feats_sum.columns = feats_sum.columns + \"_sum\"\n",
    "\n",
    "        row = pd.concat([tmp, feats_mean, feats_std, feats_sum], axis=1)\n",
    "\n",
    "        row[\"Id\"] = data[data.parentesco1==1].Id.values\n",
    "        row[\"idhogar\"] = data[data.parentesco1==1].idhogar.values\n",
    "        \n",
    "        if aggregate_train==True:\n",
    "            row[\"Target\"] = data[data.parentesco1==1].Target.values\n",
    "        else:\n",
    "            row[\"Target\"] = None\n",
    "            \n",
    "        results.append(row)\n",
    "        \n",
    "    return pd.concat(results).reset_index(drop=True)"
   ]
  },
  {
   "cell_type": "code",
   "execution_count": 6,
   "id": "f4e877b5-49e3-4d00-842e-a0061705f78b",
   "metadata": {},
   "outputs": [
    {
     "data": {
      "application/vnd.jupyter.widget-view+json": {
       "model_id": "f86c1e1d22794db5b6c428a1bef209e4",
       "version_major": 2,
       "version_minor": 0
      },
      "text/plain": [
       "  0%|          | 0/2973 [00:00<?, ?it/s]"
      ]
     },
     "metadata": {},
     "output_type": "display_data"
    }
   ],
   "source": [
    "train_agg = aggregate_to_household(train)\n",
    "\n",
    "X_agg = train_agg.drop([\"Id\", \"idhogar\", \"Target\"], axis=1).copy()\n",
    "y_agg = train_agg.Target"
   ]
  },
  {
   "cell_type": "markdown",
   "id": "cb19e7f2-08a8-4597-8f8e-14259c8b8d22",
   "metadata": {},
   "source": [
    "# 1) Additional feature engineering\n",
    "---\n",
    "In this step I add various additional features mainly using ideas from [this notebook](https://www.kaggle.com/gaxxxx/exploratory-data-analysis-lightgbm).\n",
    "- Unfortunately these additional features do not improve the score."
   ]
  },
  {
   "cell_type": "code",
   "execution_count": 7,
   "id": "93579a9e-f1a5-467b-b074-d468a8844b1c",
   "metadata": {},
   "outputs": [],
   "source": [
    "def create_additional_features():\n",
    "    X_agg['dependency_count'] = X_agg['hogar_nin'] + X_agg['hogar_mayor']\n",
    "    X_agg['child_percent'] = X_agg['hogar_nin'] / X_agg['hogar_total']\n",
    "    X_agg['elder_percent'] = X_agg['hogar_mayor'] / X_agg['hogar_total']\n",
    "    X_agg['adult_percent'] = X_agg['hogar_adul'] / X_agg['hogar_total']\n",
    "\n",
    "    X_agg['rent_per_adult'] = X_agg['v2a1'] / X_agg['hogar_adul']\n",
    "    X_agg['rent_per_person'] = X_agg['v2a1'] / X_agg['hhsize']\n",
    "\n",
    "    X_agg['r4h1_percent_in_male'] = X_agg['r4h1'] / X_agg['r4h3']\n",
    "    X_agg['r4m1_percent_in_female'] = X_agg['r4m1'] / X_agg['r4m3']\n",
    "    X_agg['r4h1_percent_in_total'] = X_agg['r4h1'] / X_agg['hhsize']\n",
    "    X_agg['r4m1_percent_in_total'] = X_agg['r4m1'] / X_agg['hhsize']\n",
    "    X_agg['r4t1_percent_in_total'] = X_agg['r4t1'] / X_agg['hhsize']\n",
    "\n",
    "    X_agg['rent_per_room'] = X_agg['v2a1'] / X_agg['rooms']\n",
    "    X_agg['bedroom_per_room'] = X_agg['bedrooms'] / X_agg['rooms']\n",
    "    X_agg['elder_per_room'] = X_agg['hogar_mayor'] / X_agg['rooms']\n",
    "    X_agg['child_per_room'] = X_agg['hogar_nin'] / X_agg['rooms']\n",
    "    X_agg['male_per_room'] = X_agg['r4h3'] / X_agg['rooms']\n",
    "    X_agg['female_per_room'] = X_agg['r4m3'] / X_agg['rooms']\n",
    "    X_agg['room_per_person_household'] = X_agg['hhsize'] / X_agg['rooms']\n",
    "\n",
    "    X_agg['rent_per_bedroom'] = X_agg['v2a1'] / X_agg['bedrooms']\n",
    "    X_agg['edler_per_bedroom'] = X_agg['hogar_mayor'] / X_agg['bedrooms']\n",
    "    X_agg['child_per_bedroom'] = X_agg['hogar_nin'] / X_agg['bedrooms']\n",
    "    X_agg['male_per_bedroom'] = X_agg['r4h3'] / X_agg['bedrooms']\n",
    "    X_agg['female_per_bedroom'] = X_agg['r4m3'] / X_agg['bedrooms']\n",
    "    X_agg['bedrooms_per_person_household'] = X_agg['hhsize'] / X_agg['bedrooms']\n",
    "\n",
    "    X_agg['overcrowding_room_and_bedroom'] = (X_agg['hacdor'] + X_agg['hacapo'])/2\n",
    "\n",
    "    X_agg['no_appliances'] = X_agg['refrig'] + X_agg['computer'] + X_agg['television']\n",
    "    X_agg['tablet_per_person_household'] = X_agg['v18q1'] / X_agg['hhsize']\n",
    "    X_agg['phone_per_person_household'] = X_agg['qmobilephone'] / X_agg['hhsize']\n",
    "\n",
    "    X_agg['age_12_19'] = X_agg['hogar_nin'] - X_agg['r4t1']"
   ]
  },
  {
   "cell_type": "code",
   "execution_count": 8,
   "id": "7652d4a9-7c7c-42f6-95cf-11564e63fc5e",
   "metadata": {},
   "outputs": [],
   "source": [
    "def train_model():\n",
    "    params = {\"n_estimators\": 1000, \n",
    "              'learning_rate': 0.022, \n",
    "              'num_leaves': 6,\n",
    "              'max_depth': 28, \n",
    "              'class_weight': 'balanced', \n",
    "              \"n_jobs\": -1, \n",
    "              \"random_state\": 42, \n",
    "              }\n",
    "\n",
    "    clf = lgb.LGBMClassifier(**params)\n",
    "    scores = cross_val_score(clf, X_agg, y_agg, scoring=\"f1_macro\", n_jobs=-1, cv=10)\n",
    "    mean_score = np.mean(scores)\n",
    "    print(f\"{mean_score:.4f}\")"
   ]
  },
  {
   "cell_type": "code",
   "execution_count": 9,
   "id": "786141b1-8616-4161-9aab-0d5fbce26c3e",
   "metadata": {},
   "outputs": [
    {
     "name": "stdout",
     "output_type": "stream",
     "text": [
      "Before additional feature engineering:\n",
      "0.4258\n",
      "\n",
      "After additional feature engineering:\n",
      "0.4183\n"
     ]
    }
   ],
   "source": [
    "print(\"Before additional feature engineering:\")\n",
    "train_model()\n",
    "print()\n",
    "\n",
    "create_additional_features()\n",
    "\n",
    "print(\"After additional feature engineering:\")\n",
    "train_model()"
   ]
  },
  {
   "cell_type": "markdown",
   "id": "6abcda29-4ccf-4338-b8f3-d1fe3b2e3253",
   "metadata": {},
   "source": [
    "# 2) Using LightGBM's early stopping\n",
    "---\n",
    "- **Early stopping is supposed to prevent overfitting** since the training stops once there is no more improvement after a given limit of rounds. \n",
    "- Early stopping also can **speed up training** since the fitting stops at the optimal point plus n stopping rounds.\n",
    "- In my case, training with early stopping yields a better local score of **0.45**\n",
    "\n",
    "I take much of the following code from [Will's notebook](https://www.kaggle.com/willkoehrsen/a-complete-introduction-and-walkthrough?scriptVersionId=5196152&cellId=139)."
   ]
  },
  {
   "cell_type": "code",
   "execution_count": 10,
   "id": "a15e838f-ea90-4d45-bfb9-fbc40de80657",
   "metadata": {},
   "outputs": [],
   "source": [
    "# Define custom metric to be used for HyperOpt later on, but we can already implement it here\n",
    "def macro_f1_score(labels, predictions):\n",
    "    # https://github.com/Microsoft/LightGBM/issues/1483\n",
    "    predictions = predictions.reshape(len(np.unique(labels)), -1 ).argmax(axis=0)\n",
    "    metric_value = f1_score(labels, predictions, average='macro')\n",
    "    return 'macro_f1', metric_value, True"
   ]
  },
  {
   "cell_type": "code",
   "execution_count": 11,
   "id": "21b92596-5c5f-43a2-b06d-38fa3a3dd9dd",
   "metadata": {
    "scrolled": true,
    "tags": []
   },
   "outputs": [
    {
     "name": "stdout",
     "output_type": "stream",
     "text": [
      "[200]\ttrain's multi_logloss: 1.092\ttrain's macro_f1: 0.683467\ttest's multi_logloss: 1.17497\ttest's macro_f1: 0.406193\n",
      "[400]\ttrain's multi_logloss: 0.923941\ttrain's macro_f1: 0.721496\ttest's multi_logloss: 1.07555\ttest's macro_f1: 0.424588\n",
      "[600]\ttrain's multi_logloss: 0.809449\ttrain's macro_f1: 0.754082\ttest's multi_logloss: 1.02239\ttest's macro_f1: 0.448959\n",
      "[800]\ttrain's multi_logloss: 0.723626\ttrain's macro_f1: 0.781662\ttest's multi_logloss: 0.988271\ttest's macro_f1: 0.449004\n",
      "[1000]\ttrain's multi_logloss: 0.654895\ttrain's macro_f1: 0.805941\ttest's multi_logloss: 0.965509\ttest's macro_f1: 0.440777\n",
      "[1200]\ttrain's multi_logloss: 0.595439\ttrain's macro_f1: 0.825597\ttest's multi_logloss: 0.95017\ttest's macro_f1: 0.443549\n",
      "[1400]\ttrain's multi_logloss: 0.543912\ttrain's macro_f1: 0.844177\ttest's multi_logloss: 0.94255\ttest's macro_f1: 0.444583\n",
      "[1600]\ttrain's multi_logloss: 0.499007\ttrain's macro_f1: 0.862355\ttest's multi_logloss: 0.934441\ttest's macro_f1: 0.445669\n",
      "[200]\ttrain's multi_logloss: 1.08971\ttrain's macro_f1: 0.663578\ttest's multi_logloss: 1.20278\ttest's macro_f1: 0.391114\n",
      "[400]\ttrain's multi_logloss: 0.922256\ttrain's macro_f1: 0.712897\ttest's multi_logloss: 1.11804\ttest's macro_f1: 0.395779\n",
      "[600]\ttrain's multi_logloss: 0.806728\ttrain's macro_f1: 0.752278\ttest's multi_logloss: 1.07363\ttest's macro_f1: 0.390823\n",
      "[800]\ttrain's multi_logloss: 0.72099\ttrain's macro_f1: 0.780733\ttest's multi_logloss: 1.04248\ttest's macro_f1: 0.409607\n",
      "[1000]\ttrain's multi_logloss: 0.649967\ttrain's macro_f1: 0.810451\ttest's multi_logloss: 1.02216\ttest's macro_f1: 0.417868\n",
      "[1200]\ttrain's multi_logloss: 0.588505\ttrain's macro_f1: 0.835486\ttest's multi_logloss: 1.01335\ttest's macro_f1: 0.403015\n",
      "[1400]\ttrain's multi_logloss: 0.536742\ttrain's macro_f1: 0.848741\ttest's multi_logloss: 1.00768\ttest's macro_f1: 0.413381\n",
      "[1600]\ttrain's multi_logloss: 0.491799\ttrain's macro_f1: 0.868294\ttest's multi_logloss: 1.00511\ttest's macro_f1: 0.41382\n",
      "[1800]\ttrain's multi_logloss: 0.450781\ttrain's macro_f1: 0.884721\ttest's multi_logloss: 1.0048\ttest's macro_f1: 0.415635\n",
      "[200]\ttrain's multi_logloss: 1.09633\ttrain's macro_f1: 0.668618\ttest's multi_logloss: 1.14501\ttest's macro_f1: 0.479908\n",
      "[400]\ttrain's multi_logloss: 0.929859\ttrain's macro_f1: 0.714321\ttest's multi_logloss: 1.0319\ttest's macro_f1: 0.477527\n",
      "[600]\ttrain's multi_logloss: 0.815788\ttrain's macro_f1: 0.748176\ttest's multi_logloss: 0.957426\ttest's macro_f1: 0.497463\n",
      "[800]\ttrain's multi_logloss: 0.728582\ttrain's macro_f1: 0.783056\ttest's multi_logloss: 0.914877\ttest's macro_f1: 0.509436\n",
      "[1000]\ttrain's multi_logloss: 0.658262\ttrain's macro_f1: 0.807363\ttest's multi_logloss: 0.887585\ttest's macro_f1: 0.50433\n",
      "[1200]\ttrain's multi_logloss: 0.597884\ttrain's macro_f1: 0.832809\ttest's multi_logloss: 0.868586\ttest's macro_f1: 0.509303\n",
      "[1400]\ttrain's multi_logloss: 0.545034\ttrain's macro_f1: 0.852928\ttest's multi_logloss: 0.851567\ttest's macro_f1: 0.521578\n",
      "[1600]\ttrain's multi_logloss: 0.499486\ttrain's macro_f1: 0.872329\ttest's multi_logloss: 0.84134\ttest's macro_f1: 0.514086\n",
      "[1800]\ttrain's multi_logloss: 0.459104\ttrain's macro_f1: 0.878708\ttest's multi_logloss: 0.83265\ttest's macro_f1: 0.518057\n",
      "[2000]\ttrain's multi_logloss: 0.422791\ttrain's macro_f1: 0.896015\ttest's multi_logloss: 0.829749\ttest's macro_f1: 0.511609\n",
      "[2200]\ttrain's multi_logloss: 0.389969\ttrain's macro_f1: 0.906864\ttest's multi_logloss: 0.826198\ttest's macro_f1: 0.497327\n",
      "[2400]\ttrain's multi_logloss: 0.36079\ttrain's macro_f1: 0.912254\ttest's multi_logloss: 0.823594\ttest's macro_f1: 0.498362\n",
      "[2600]\ttrain's multi_logloss: 0.333138\ttrain's macro_f1: 0.92079\ttest's multi_logloss: 0.82227\ttest's macro_f1: 0.483303\n",
      "[200]\ttrain's multi_logloss: 1.09133\ttrain's macro_f1: 0.682654\ttest's multi_logloss: 1.18786\ttest's macro_f1: 0.365509\n",
      "[400]\ttrain's multi_logloss: 0.919495\ttrain's macro_f1: 0.716927\ttest's multi_logloss: 1.08517\ttest's macro_f1: 0.367937\n",
      "[600]\ttrain's multi_logloss: 0.805856\ttrain's macro_f1: 0.750026\ttest's multi_logloss: 1.03096\ttest's macro_f1: 0.377151\n",
      "[800]\ttrain's multi_logloss: 0.719692\ttrain's macro_f1: 0.778601\ttest's multi_logloss: 0.996782\ttest's macro_f1: 0.375856\n",
      "[1000]\ttrain's multi_logloss: 0.649534\ttrain's macro_f1: 0.799556\ttest's multi_logloss: 0.970543\ttest's macro_f1: 0.377768\n",
      "[1200]\ttrain's multi_logloss: 0.590812\ttrain's macro_f1: 0.82272\ttest's multi_logloss: 0.954285\ttest's macro_f1: 0.394462\n",
      "[1400]\ttrain's multi_logloss: 0.539837\ttrain's macro_f1: 0.844999\ttest's multi_logloss: 0.938976\ttest's macro_f1: 0.395604\n",
      "[1600]\ttrain's multi_logloss: 0.493956\ttrain's macro_f1: 0.860156\ttest's multi_logloss: 0.928467\ttest's macro_f1: 0.399566\n",
      "[1800]\ttrain's multi_logloss: 0.453183\ttrain's macro_f1: 0.877441\ttest's multi_logloss: 0.919105\ttest's macro_f1: 0.401758\n",
      "[2000]\ttrain's multi_logloss: 0.417178\ttrain's macro_f1: 0.890717\ttest's multi_logloss: 0.911424\ttest's macro_f1: 0.403514\n",
      "[2200]\ttrain's multi_logloss: 0.385406\ttrain's macro_f1: 0.901153\ttest's multi_logloss: 0.905817\ttest's macro_f1: 0.390375\n",
      "[2400]\ttrain's multi_logloss: 0.355855\ttrain's macro_f1: 0.916494\ttest's multi_logloss: 0.903642\ttest's macro_f1: 0.400248\n",
      "[2600]\ttrain's multi_logloss: 0.328555\ttrain's macro_f1: 0.923285\ttest's multi_logloss: 0.90265\ttest's macro_f1: 0.382807\n",
      "[2800]\ttrain's multi_logloss: 0.30389\ttrain's macro_f1: 0.930114\ttest's multi_logloss: 0.903036\ttest's macro_f1: 0.385365\n",
      "[200]\ttrain's multi_logloss: 1.08951\ttrain's macro_f1: 0.685756\ttest's multi_logloss: 1.19444\ttest's macro_f1: 0.422418\n",
      "[400]\ttrain's multi_logloss: 0.917866\ttrain's macro_f1: 0.727935\ttest's multi_logloss: 1.1106\ttest's macro_f1: 0.41152\n",
      "[600]\ttrain's multi_logloss: 0.79887\ttrain's macro_f1: 0.760273\ttest's multi_logloss: 1.06281\ttest's macro_f1: 0.429153\n",
      "[800]\ttrain's multi_logloss: 0.711583\ttrain's macro_f1: 0.787339\ttest's multi_logloss: 1.03786\ttest's macro_f1: 0.418618\n",
      "[1000]\ttrain's multi_logloss: 0.643338\ttrain's macro_f1: 0.80601\ttest's multi_logloss: 1.01809\ttest's macro_f1: 0.421771\n",
      "[1200]\ttrain's multi_logloss: 0.583618\ttrain's macro_f1: 0.828065\ttest's multi_logloss: 1.00882\ttest's macro_f1: 0.417361\n",
      "[1400]\ttrain's multi_logloss: 0.532433\ttrain's macro_f1: 0.850088\ttest's multi_logloss: 1.00328\ttest's macro_f1: 0.408461\n",
      "[1600]\ttrain's multi_logloss: 0.487238\ttrain's macro_f1: 0.868371\ttest's multi_logloss: 0.998949\ttest's macro_f1: 0.423391\n",
      "[1800]\ttrain's multi_logloss: 0.44686\ttrain's macro_f1: 0.880064\ttest's multi_logloss: 1.00168\ttest's macro_f1: 0.406002\n",
      "[200]\ttrain's multi_logloss: 1.0942\ttrain's macro_f1: 0.66328\ttest's multi_logloss: 1.20132\ttest's macro_f1: 0.366515\n",
      "[400]\ttrain's multi_logloss: 0.92725\ttrain's macro_f1: 0.709897\ttest's multi_logloss: 1.1017\ttest's macro_f1: 0.383519\n",
      "[600]\ttrain's multi_logloss: 0.810803\ttrain's macro_f1: 0.74575\ttest's multi_logloss: 1.04569\ttest's macro_f1: 0.385528\n",
      "[800]\ttrain's multi_logloss: 0.724344\ttrain's macro_f1: 0.775317\ttest's multi_logloss: 1.01109\ttest's macro_f1: 0.392813\n",
      "[1000]\ttrain's multi_logloss: 0.655293\ttrain's macro_f1: 0.798599\ttest's multi_logloss: 0.985723\ttest's macro_f1: 0.420725\n",
      "[1200]\ttrain's multi_logloss: 0.594761\ttrain's macro_f1: 0.821773\ttest's multi_logloss: 0.968481\ttest's macro_f1: 0.405902\n",
      "[1400]\ttrain's multi_logloss: 0.543484\ttrain's macro_f1: 0.844209\ttest's multi_logloss: 0.951514\ttest's macro_f1: 0.430978\n",
      "[1600]\ttrain's multi_logloss: 0.499395\ttrain's macro_f1: 0.863183\ttest's multi_logloss: 0.943363\ttest's macro_f1: 0.432426\n",
      "[1800]\ttrain's multi_logloss: 0.458178\ttrain's macro_f1: 0.875423\ttest's multi_logloss: 0.935872\ttest's macro_f1: 0.43239\n",
      "[2000]\ttrain's multi_logloss: 0.421581\ttrain's macro_f1: 0.885233\ttest's multi_logloss: 0.928855\ttest's macro_f1: 0.406279\n",
      "[2200]\ttrain's multi_logloss: 0.389188\ttrain's macro_f1: 0.895877\ttest's multi_logloss: 0.924514\ttest's macro_f1: 0.409512\n",
      "[2400]\ttrain's multi_logloss: 0.359995\ttrain's macro_f1: 0.906503\ttest's multi_logloss: 0.918747\ttest's macro_f1: 0.414235\n",
      "[2600]\ttrain's multi_logloss: 0.332997\ttrain's macro_f1: 0.913725\ttest's multi_logloss: 0.913761\ttest's macro_f1: 0.421936\n",
      "[200]\ttrain's multi_logloss: 1.09017\ttrain's macro_f1: 0.669067\ttest's multi_logloss: 1.18225\ttest's macro_f1: 0.375908\n",
      "[400]\ttrain's multi_logloss: 0.919335\ttrain's macro_f1: 0.723767\ttest's multi_logloss: 1.08894\ttest's macro_f1: 0.391005\n",
      "[600]\ttrain's multi_logloss: 0.804364\ttrain's macro_f1: 0.757967\ttest's multi_logloss: 1.0389\ttest's macro_f1: 0.364638\n",
      "[800]\ttrain's multi_logloss: 0.718089\ttrain's macro_f1: 0.787442\ttest's multi_logloss: 1.00789\ttest's macro_f1: 0.372785\n",
      "[1000]\ttrain's multi_logloss: 0.647448\ttrain's macro_f1: 0.807348\ttest's multi_logloss: 0.986633\ttest's macro_f1: 0.381557\n",
      "[1200]\ttrain's multi_logloss: 0.587493\ttrain's macro_f1: 0.827858\ttest's multi_logloss: 0.97075\ttest's macro_f1: 0.371571\n",
      "[200]\ttrain's multi_logloss: 1.09144\ttrain's macro_f1: 0.675799\ttest's multi_logloss: 1.16872\ttest's macro_f1: 0.430172\n",
      "[400]\ttrain's multi_logloss: 0.924757\ttrain's macro_f1: 0.713299\ttest's multi_logloss: 1.06701\ttest's macro_f1: 0.4213\n",
      "[600]\ttrain's multi_logloss: 0.810292\ttrain's macro_f1: 0.741767\ttest's multi_logloss: 1.01823\ttest's macro_f1: 0.411807\n",
      "[800]\ttrain's multi_logloss: 0.723985\ttrain's macro_f1: 0.783579\ttest's multi_logloss: 0.984139\ttest's macro_f1: 0.414559\n",
      "[1000]\ttrain's multi_logloss: 0.653117\ttrain's macro_f1: 0.804779\ttest's multi_logloss: 0.961387\ttest's macro_f1: 0.387295\n",
      "[1200]\ttrain's multi_logloss: 0.590818\ttrain's macro_f1: 0.830139\ttest's multi_logloss: 0.950007\ttest's macro_f1: 0.404344\n",
      "[200]\ttrain's multi_logloss: 1.09232\ttrain's macro_f1: 0.672852\ttest's multi_logloss: 1.17341\ttest's macro_f1: 0.409746\n",
      "[400]\ttrain's multi_logloss: 0.921817\ttrain's macro_f1: 0.722726\ttest's multi_logloss: 1.06899\ttest's macro_f1: 0.410021\n",
      "[600]\ttrain's multi_logloss: 0.806474\ttrain's macro_f1: 0.755039\ttest's multi_logloss: 1.00658\ttest's macro_f1: 0.423727\n",
      "[800]\ttrain's multi_logloss: 0.720623\ttrain's macro_f1: 0.780972\ttest's multi_logloss: 0.970581\ttest's macro_f1: 0.424015\n",
      "[1000]\ttrain's multi_logloss: 0.650056\ttrain's macro_f1: 0.810334\ttest's multi_logloss: 0.945398\ttest's macro_f1: 0.441994\n",
      "[1200]\ttrain's multi_logloss: 0.590536\ttrain's macro_f1: 0.82981\ttest's multi_logloss: 0.927394\ttest's macro_f1: 0.43144\n",
      "[1400]\ttrain's multi_logloss: 0.53782\ttrain's macro_f1: 0.850847\ttest's multi_logloss: 0.914763\ttest's macro_f1: 0.439461\n",
      "[1600]\ttrain's multi_logloss: 0.492083\ttrain's macro_f1: 0.86358\ttest's multi_logloss: 0.905339\ttest's macro_f1: 0.446354\n",
      "[1800]\ttrain's multi_logloss: 0.450366\ttrain's macro_f1: 0.880343\ttest's multi_logloss: 0.899625\ttest's macro_f1: 0.427938\n",
      "[200]\ttrain's multi_logloss: 1.0966\ttrain's macro_f1: 0.670592\ttest's multi_logloss: 1.1773\ttest's macro_f1: 0.414293\n",
      "[400]\ttrain's multi_logloss: 0.925862\ttrain's macro_f1: 0.719142\ttest's multi_logloss: 1.07611\ttest's macro_f1: 0.454669\n",
      "[600]\ttrain's multi_logloss: 0.811581\ttrain's macro_f1: 0.747911\ttest's multi_logloss: 1.01202\ttest's macro_f1: 0.461071\n",
      "[800]\ttrain's multi_logloss: 0.72358\ttrain's macro_f1: 0.783975\ttest's multi_logloss: 0.968594\ttest's macro_f1: 0.450254\n",
      "[1000]\ttrain's multi_logloss: 0.654186\ttrain's macro_f1: 0.806936\ttest's multi_logloss: 0.945867\ttest's macro_f1: 0.447287\n",
      "[1200]\ttrain's multi_logloss: 0.593695\ttrain's macro_f1: 0.829964\ttest's multi_logloss: 0.928817\ttest's macro_f1: 0.449644\n",
      "[1400]\ttrain's multi_logloss: 0.540683\ttrain's macro_f1: 0.847313\ttest's multi_logloss: 0.910442\ttest's macro_f1: 0.465853\n",
      "[1600]\ttrain's multi_logloss: 0.495069\ttrain's macro_f1: 0.866258\ttest's multi_logloss: 0.900132\ttest's macro_f1: 0.478563\n",
      "[1800]\ttrain's multi_logloss: 0.454335\ttrain's macro_f1: 0.880832\ttest's multi_logloss: 0.894255\ttest's macro_f1: 0.48652\n",
      "[2000]\ttrain's multi_logloss: 0.418699\ttrain's macro_f1: 0.888548\ttest's multi_logloss: 0.887727\ttest's macro_f1: 0.486634\n",
      "[2200]\ttrain's multi_logloss: 0.385754\ttrain's macro_f1: 0.901049\ttest's multi_logloss: 0.882664\ttest's macro_f1: 0.494523\n",
      "[2400]\ttrain's multi_logloss: 0.355267\ttrain's macro_f1: 0.914769\ttest's multi_logloss: 0.87575\ttest's macro_f1: 0.494001\n",
      "[2600]\ttrain's multi_logloss: 0.327572\ttrain's macro_f1: 0.920838\ttest's multi_logloss: 0.872722\ttest's macro_f1: 0.486306\n",
      "[2800]\ttrain's multi_logloss: 0.302165\ttrain's macro_f1: 0.932119\ttest's multi_logloss: 0.871749\ttest's macro_f1: 0.489396\n",
      "[3000]\ttrain's multi_logloss: 0.279029\ttrain's macro_f1: 0.941749\ttest's multi_logloss: 0.873438\ttest's macro_f1: 0.492713\n",
      "[3200]\ttrain's multi_logloss: 0.257577\ttrain's macro_f1: 0.947157\ttest's multi_logloss: 0.871845\ttest's macro_f1: 0.47739\n",
      "F1 macro validated: 0.4500 with an average of 1161 estimators\n",
      "\n",
      "CPU times: user 27min 21s, sys: 14min 56s, total: 42min 18s\n",
      "Wall time: 20min 31s\n"
     ]
    }
   ],
   "source": [
    "%%time\n",
    "params = {'learning_rate': 0.002, \n",
    "          'class_weight': 'balanced', \n",
    "          \"n_jobs\": -1, \n",
    "          \"random_state\": 42, \n",
    "          \"n_estimators\": 5_000, \n",
    "          }\n",
    "\n",
    "model = lgb.LGBMClassifier(**params)\n",
    "\n",
    "skf = StratifiedKFold(n_splits=10, shuffle=True, random_state=42)\n",
    "scores = []\n",
    "best_estimators = []\n",
    "\n",
    "for train_index, val_index in skf.split(X_agg, y_agg):\n",
    "    model.fit(X_agg.loc[train_index], y_agg[train_index], \n",
    "              # The training stops once there is no more improvement on the validation set for 1000 rounds.\n",
    "              # Every training «round» is equivalent to building one more estimator in the gradient boosting chain.\n",
    "              early_stopping_rounds=1000, \n",
    "              eval_metric=macro_f1_score,\n",
    "              eval_set=[(X_agg.loc[train_index], y_agg[train_index]), (X_agg.loc[val_index], y_agg[val_index])],\n",
    "              eval_names=[\"train\", 'test'],\n",
    "              verbose=200)\n",
    "        \n",
    "    scores.append([model.best_score_[\"test\"][\"macro_f1\"]])\n",
    "    best_estimators.append(model.best_iteration_)\n",
    "\n",
    "estimators = int(np.mean(best_estimators))\n",
    "print(f\"F1 macro validated: {np.mean(scores):.4f} with an average of {estimators} estimators\\n\")"
   ]
  },
  {
   "cell_type": "markdown",
   "id": "03ce8dcd-93a7-4098-b341-d5a717a14229",
   "metadata": {},
   "source": [
    "# 3) Using HyperOpt for hyperparameter search\n",
    "---\n",
    "**[HyperOpt](https://github.com/hyperopt/hyperopt) is yet another library that aims to help with hyperparameter search.** \n",
    "\n",
    "Like several of the available AutoML solutions, HyperOpt constructs a proxy model of the objective function. Instead of directly maximizing the model's objective, HyperOpt optimizes the proxy model and by that tries to find the best next parameter combination to try out. This might substantially reduce search time and possibly find better hyperparameters.\n",
    "\n",
    "HyperOpt lets us use one out of three available algorithms for choosing the next values in the parameter search. \n",
    "- `tpe.suggest` (which is the one I use here) is the «Tree Parzen Estimator» which uses the Bayes rule.\n",
    "- tpe maximizes the «Expected Improvement» of the proxy model.\n",
    "\n",
    "Note: There is an extension available called [hyperopt-sklearn](https://hyperopt.github.io/hyperopt-sklearn/) that allows to more tightly integrate HyperOpt into scikit-learn pipelines."
   ]
  },
  {
   "cell_type": "code",
   "execution_count": 12,
   "id": "7b2064f6-6982-4023-a6a1-39a12fd5dafb",
   "metadata": {},
   "outputs": [],
   "source": [
    "# HyperOpt needs an objective function to minimize that has to follow certain conventions.\n",
    "# https://github.com/hyperopt/hyperopt/wiki/FMin\n",
    "# Again, code here is an adapted version of Will Koehrsen Kaggle code \n",
    "def objective_func(hyperparameters):\n",
    "    \n",
    "    # Assert that parameters that need to be integers are integers\n",
    "    parameters = ['num_leaves', 'subsample_for_bin', 'min_child_samples', 'subsample_freq']\n",
    "    for parameter in parameters:\n",
    "        hyperparameters[parameter] = int(hyperparameters[parameter])\n",
    "        \n",
    "    model = lgb.LGBMClassifier(**hyperparameters,\n",
    "                               class_weight='balanced',\n",
    "                               n_jobs=-1, \n",
    "                               random_state= 42, \n",
    "                               n_estimators= 5_000, \n",
    "                               )\n",
    "    \n",
    "    valid_scores = []\n",
    "    skf = StratifiedKFold(n_splits=10, shuffle=True, random_state=42)\n",
    "\n",
    "    for train_index, val_index in skf.split(X_agg, y_agg):\n",
    "        \n",
    "        model.fit(X_agg.loc[train_index], y_agg[train_index], \n",
    "                  early_stopping_rounds=500, \n",
    "                  eval_metric=macro_f1_score,\n",
    "                  eval_set=[(X_agg.loc[val_index], y_agg[val_index])],\n",
    "                  eval_names=[\"valid\"],\n",
    "                  verbose=0)\n",
    "        \n",
    "        valid_scores.append(model.best_score_['valid']['macro_f1'])\n",
    "        best_estimators.append(model.best_iteration_)\n",
    "    \n",
    "    score = np.mean(valid_scores)\n",
    "    score_std = np.std(valid_scores)\n",
    "    \n",
    "    # Hyperopt needs a score to *minimize*, so we need to return 1 - Macro F1 score as loss.\n",
    "    loss = 1 - score\n",
    "    \n",
    "    return {'loss': loss, 'status': STATUS_OK, \n",
    "            'hyperparameters': hyperparameters,\n",
    "            'score': score, 'score_std': score_std}"
   ]
  },
  {
   "cell_type": "code",
   "execution_count": 13,
   "id": "e9a30391-d1cb-44af-a83d-331c08d6afd2",
   "metadata": {},
   "outputs": [],
   "source": [
    "# Define the search space for HyperOpt\n",
    "space = {\n",
    "        'subsample': hp.uniform('subsample', 0.1, 1),\n",
    "        'subsample_freq': hp.quniform('subsample_freq', 1, 10, 1), \n",
    "        'subsample_for_bin': hp.quniform('subsample_for_bin', 2000, 200000, 2000),\n",
    "        'num_leaves': hp.quniform('num_leaves', 3, 60, 1),\n",
    "        'learning_rate': hp.loguniform('learning_rate', \n",
    "                                       np.log(0.01), \n",
    "                                       np.log(0.2)),\n",
    "        'min_child_samples': hp.quniform('min_child_samples', 5, 80, 5),\n",
    "        'reg_alpha': hp.uniform('reg_alpha', 0.0, 1.0),\n",
    "        'reg_lambda': hp.uniform('reg_lambda', 0.0, 1.0),\n",
    "        }"
   ]
  },
  {
   "cell_type": "code",
   "execution_count": 14,
   "id": "b0dd3dc6-7316-4e4e-a35d-2eebb7c6f270",
   "metadata": {
    "tags": []
   },
   "outputs": [
    {
     "name": "stdout",
     "output_type": "stream",
     "text": [
      "100%|███████████████████████████████████████████████████████████████████████████████████████████| 50/50 [36:55<00:00, 44.32s/trial, best loss: 0.5328411887687478]\n",
      "CPU times: user 2h 33min 57s, sys: 59min 52s, total: 3h 33min 49s\n",
      "Wall time: 36min 55s\n"
     ]
    }
   ],
   "source": [
    "%%time\n",
    "trials = Trials()\n",
    "best = fmin(fn=objective_func, \n",
    "            space=space, \n",
    "            algo=tpe.suggest, \n",
    "            trials=trials,\n",
    "            # By default tpe selects the first hyperparameters for the first 20 evalution rounds randomly.\n",
    "            # It does so as a warm up to get an idea of where to start.\n",
    "            # Only then the algorithm begins to optimize next steps in search space.\n",
    "            # https://github.com/hyperopt/hyperopt/issues/642\n",
    "            max_evals=50)"
   ]
  },
  {
   "cell_type": "markdown",
   "id": "089a32fb-ad79-4dc2-90b3-b4b8f219922e",
   "metadata": {},
   "source": [
    "## Visualize results\n",
    "By plotting the score of each iteration we can observe the improvement HyperOpt makes throughout the search. \n",
    "- We need to discard the first 20 iterations because HyperOpt samples these first iterations randomly as a warmup. \n",
    "- Iteration #32 yields the best score - **0.4648**"
   ]
  },
  {
   "cell_type": "code",
   "execution_count": 15,
   "id": "44ebd7e2-496a-43d1-8918-8deccb849ee1",
   "metadata": {},
   "outputs": [
    {
     "data": {
      "image/png": "[encoded data removed]",
      "text/plain": [
       "<Figure size 1152x360 with 1 Axes>"
      ]
     },
     "metadata": {
      "image/png": {
       "height": 352,
       "width": 1143
      }
     },
     "output_type": "display_data"
    }
   ],
   "source": [
    "results = pd.DataFrame.from_dict(trials.results)\n",
    "results.drop(\"status\", axis=1, inplace=True)\n",
    "results.reset_index(inplace=True)\n",
    "results.score.plot(figsize=(16,5), marker=\"o\")\n",
    "plt.title(\"Scores of HyperOpt optimization\", size=TITLE_SIZE, pad=TITLE_PADDING)\n",
    "plt.xlabel(\"Iteration\")\n",
    "plt.ylabel(\"F1 macro score\")\n",
    "plt.tight_layout()\n",
    "plt.show()"
   ]
  },
  {
   "cell_type": "code",
   "execution_count": 16,
   "id": "ef653a01-9238-473b-be9c-3bfb39c7a06e",
   "metadata": {},
   "outputs": [
    {
     "data": {
      "text/html": [
       "<div>\n",
       "<style scoped>\n",
       "    .dataframe tbody tr th:only-of-type {\n",
       "        vertical-align: middle;\n",
       "    }\n",
       "\n",
       "    .dataframe tbody tr th {\n",
       "        vertical-align: top;\n",
       "    }\n",
       "\n",
       "    .dataframe thead th {\n",
       "        text-align: right;\n",
       "    }\n",
       "</style>\n",
       "<table border=\"1\" class=\"dataframe\">\n",
       "  <thead>\n",
       "    <tr style=\"text-align: right;\">\n",
       "      <th></th>\n",
       "      <th>level_0</th>\n",
       "      <th>iteration</th>\n",
       "      <th>loss</th>\n",
       "      <th>hyperparameters</th>\n",
       "      <th>score</th>\n",
       "      <th>score_std</th>\n",
       "    </tr>\n",
       "  </thead>\n",
       "  <tbody>\n",
       "    <tr>\n",
       "      <th>0</th>\n",
       "      <td>21</td>\n",
       "      <td>21</td>\n",
       "      <td>0.532841</td>\n",
       "      <td>{'learning_rate': 0.010091506146341857, 'min_c...</td>\n",
       "      <td>0.467159</td>\n",
       "      <td>0.028698</td>\n",
       "    </tr>\n",
       "    <tr>\n",
       "      <th>1</th>\n",
       "      <td>25</td>\n",
       "      <td>25</td>\n",
       "      <td>0.536920</td>\n",
       "      <td>{'learning_rate': 0.02728632665625051, 'min_ch...</td>\n",
       "      <td>0.463080</td>\n",
       "      <td>0.020347</td>\n",
       "    </tr>\n",
       "    <tr>\n",
       "      <th>2</th>\n",
       "      <td>3</td>\n",
       "      <td>3</td>\n",
       "      <td>0.539043</td>\n",
       "      <td>{'learning_rate': 0.01093187949330154, 'min_ch...</td>\n",
       "      <td>0.460957</td>\n",
       "      <td>0.026682</td>\n",
       "    </tr>\n",
       "    <tr>\n",
       "      <th>3</th>\n",
       "      <td>37</td>\n",
       "      <td>37</td>\n",
       "      <td>0.539580</td>\n",
       "      <td>{'learning_rate': 0.010105771702845483, 'min_c...</td>\n",
       "      <td>0.460420</td>\n",
       "      <td>0.025477</td>\n",
       "    </tr>\n",
       "    <tr>\n",
       "      <th>4</th>\n",
       "      <td>28</td>\n",
       "      <td>28</td>\n",
       "      <td>0.543342</td>\n",
       "      <td>{'learning_rate': 0.025315714672400545, 'min_c...</td>\n",
       "      <td>0.456658</td>\n",
       "      <td>0.023230</td>\n",
       "    </tr>\n",
       "    <tr>\n",
       "      <th>5</th>\n",
       "      <td>24</td>\n",
       "      <td>24</td>\n",
       "      <td>0.543801</td>\n",
       "      <td>{'learning_rate': 0.01076106436790391, 'min_ch...</td>\n",
       "      <td>0.456199</td>\n",
       "      <td>0.023058</td>\n",
       "    </tr>\n",
       "    <tr>\n",
       "      <th>6</th>\n",
       "      <td>12</td>\n",
       "      <td>12</td>\n",
       "      <td>0.544596</td>\n",
       "      <td>{'learning_rate': 0.09186236464674087, 'min_ch...</td>\n",
       "      <td>0.455404</td>\n",
       "      <td>0.015036</td>\n",
       "    </tr>\n",
       "    <tr>\n",
       "      <th>7</th>\n",
       "      <td>32</td>\n",
       "      <td>32</td>\n",
       "      <td>0.545146</td>\n",
       "      <td>{'learning_rate': 0.016713762981425975, 'min_c...</td>\n",
       "      <td>0.454854</td>\n",
       "      <td>0.023859</td>\n",
       "    </tr>\n",
       "    <tr>\n",
       "      <th>8</th>\n",
       "      <td>35</td>\n",
       "      <td>35</td>\n",
       "      <td>0.545226</td>\n",
       "      <td>{'learning_rate': 0.01244156648379928, 'min_ch...</td>\n",
       "      <td>0.454774</td>\n",
       "      <td>0.036254</td>\n",
       "    </tr>\n",
       "    <tr>\n",
       "      <th>9</th>\n",
       "      <td>43</td>\n",
       "      <td>43</td>\n",
       "      <td>0.546634</td>\n",
       "      <td>{'learning_rate': 0.01388339925958831, 'min_ch...</td>\n",
       "      <td>0.453366</td>\n",
       "      <td>0.035780</td>\n",
       "    </tr>\n",
       "  </tbody>\n",
       "</table>\n",
       "</div>"
      ],
      "text/plain": [
       "   level_0  iteration      loss  \\\n",
       "0       21         21  0.532841   \n",
       "1       25         25  0.536920   \n",
       "2        3          3  0.539043   \n",
       "3       37         37  0.539580   \n",
       "4       28         28  0.543342   \n",
       "5       24         24  0.543801   \n",
       "6       12         12  0.544596   \n",
       "7       32         32  0.545146   \n",
       "8       35         35  0.545226   \n",
       "9       43         43  0.546634   \n",
       "\n",
       "                                     hyperparameters     score  score_std  \n",
       "0  {'learning_rate': 0.010091506146341857, 'min_c...  0.467159   0.028698  \n",
       "1  {'learning_rate': 0.02728632665625051, 'min_ch...  0.463080   0.020347  \n",
       "2  {'learning_rate': 0.01093187949330154, 'min_ch...  0.460957   0.026682  \n",
       "3  {'learning_rate': 0.010105771702845483, 'min_c...  0.460420   0.025477  \n",
       "4  {'learning_rate': 0.025315714672400545, 'min_c...  0.456658   0.023230  \n",
       "5  {'learning_rate': 0.01076106436790391, 'min_ch...  0.456199   0.023058  \n",
       "6  {'learning_rate': 0.09186236464674087, 'min_ch...  0.455404   0.015036  \n",
       "7  {'learning_rate': 0.016713762981425975, 'min_c...  0.454854   0.023859  \n",
       "8  {'learning_rate': 0.01244156648379928, 'min_ch...  0.454774   0.036254  \n",
       "9  {'learning_rate': 0.01388339925958831, 'min_ch...  0.453366   0.035780  "
      ]
     },
     "metadata": {},
     "output_type": "display_data"
    }
   ],
   "source": [
    "results.sort_values(\"score\", ascending=False, inplace=True)\n",
    "results.reset_index(inplace=True)\n",
    "results.rename({\"index\":\"iteration\"}, axis=1, inplace=True)\n",
    "display(results.iloc[:10])"
   ]
  },
  {
   "cell_type": "code",
   "execution_count": 17,
   "id": "3054e5fe-f302-4795-a307-1bf9d2affe4e",
   "metadata": {},
   "outputs": [
    {
     "name": "stdout",
     "output_type": "stream",
     "text": [
      "Best found hyperparameters are:\n",
      "\n"
     ]
    },
    {
     "data": {
      "text/plain": [
       "{'learning_rate': 0.010091506146341857,\n",
       " 'min_child_samples': 45,\n",
       " 'num_leaves': 28,\n",
       " 'reg_alpha': 0.20657994563833657,\n",
       " 'reg_lambda': 0.42853957052345515,\n",
       " 'subsample': 0.2574762456012337,\n",
       " 'subsample_for_bin': 64000,\n",
       " 'subsample_freq': 6}"
      ]
     },
     "metadata": {},
     "output_type": "display_data"
    }
   ],
   "source": [
    "params = results.loc[0].hyperparameters\n",
    "print(\"Best found hyperparameters are:\\n\")\n",
    "display(params)\n",
    "\n",
    "# # make sure found params are really the optimal ones\n",
    "# from hyperopt import space_eval\n",
    "# display(space_eval(space, best))"
   ]
  },
  {
   "cell_type": "markdown",
   "id": "e9dbcf17-787d-4074-899b-8902586a1e54",
   "metadata": {},
   "source": [
    "## Validate best found hyperparameters"
   ]
  },
  {
   "cell_type": "code",
   "execution_count": 18,
   "id": "e16351c8-ba41-4053-87a8-10c954b93d19",
   "metadata": {},
   "outputs": [
    {
     "name": "stdout",
     "output_type": "stream",
     "text": [
      "F1 macro validated: 0.4673\n",
      "\n",
      "CPU times: user 1min 58s, sys: 45.5 s, total: 2min 44s\n",
      "Wall time: 23.4 s\n"
     ]
    }
   ],
   "source": [
    "%%time\n",
    "# Set n_estimators to very high value again to allow for a wider range when using early stopping\n",
    "# otherwise default of 100 from LGBM would be used\n",
    "params[\"n_estimators\"] = 5_000\n",
    "model = lgb.LGBMClassifier(**params,\n",
    "                           class_weight='balanced',\n",
    "                           n_jobs=-1, \n",
    "                           random_state= 42,\n",
    "                          )\n",
    "\n",
    "skf = StratifiedKFold(n_splits=10, shuffle=True, random_state=42)\n",
    "scores = []\n",
    "\n",
    "for train_index, val_index in skf.split(X_agg, y_agg):\n",
    "    model.fit(X_agg.loc[train_index], y_agg[train_index], \n",
    "              early_stopping_rounds=250, \n",
    "              eval_metric=macro_f1_score,\n",
    "              eval_set=[(X_agg.loc[val_index], y_agg[val_index])],\n",
    "              eval_names=[\"valid\"],\n",
    "              verbose=0)\n",
    "    preds = model.predict(X_agg.loc[val_index])\n",
    "    scores.append(model.best_score_[\"valid\"][\"macro_f1\"])\n",
    "    \n",
    "print(f\"F1 macro validated: {np.mean(scores):.4f}\\n\")"
   ]
  },
  {
   "cell_type": "markdown",
   "id": "4af94854-04e3-4ac6-9ab1-b266d7f6bd81",
   "metadata": {},
   "source": [
    "**The best hyperparameters I could find with HyperOpt yield 0.4367 on Kaggle (rank #89 from previous #111)**, which is a substantial gain and the **best result so far.**\n",
    "\n",
    "I had to increase the early stopping rounds, create a model out of each fold of crossvalidation (10 in total), made predictions with each of these and averaged the results."
   ]
  },
  {
   "cell_type": "markdown",
   "id": "f7b06341-ca4e-452e-b09c-1fadfa1c3cd9",
   "metadata": {},
   "source": [
    "# 4) Conclusions\n",
    "---"
   ]
  },
  {
   "cell_type": "markdown",
   "id": "768423f9-9361-47d9-8633-7e5e8530ea7e",
   "metadata": {},
   "source": [
    "- **An interesting and challenging data set to work with.**\n",
    "- As usual there was a wealth of things to learn from others on Kaggle. Unfortunately the winning solutions weren't published. I'd would have been great to see how this competition was won and how the organizers used all the ideas and code to improve the assessment of poverty. \n",
    "- I had some difficulties in setting up early stopping correctly. It took me a lot of experimenting and refactoring code until I had all the parameters and workflow in place so that results actually were valid. However, early stopping brought substantial gains, especially in combination with hyperparameter search with HyperOpt. \n",
    "- I hadn't used HyperOpt before and found it to be an interesting and helpful tool."
   ]
  }
 ],
 "metadata": {
  "kernelspec": {
   "display_name": "Python 3 (ipykernel)",
   "language": "python",
   "name": "python3"
  },
  "language_info": {
   "codemirror_mode": {
    "name": "ipython",
    "version": 3
   },
   "file_extension": ".py",
   "mimetype": "text/x-python",
   "name": "python",
   "nbconvert_exporter": "python",
   "pygments_lexer": "ipython3",
   "version": "3.8.12"
  },
  "toc-showcode": false,
  "toc-showmarkdowntxt": false
 },
 "nbformat": 4,
 "nbformat_minor": 5
}
